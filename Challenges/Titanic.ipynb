{
  "nbformat": 4,
  "nbformat_minor": 0,
  "metadata": {
    "colab": {
      "name": "Titanic - aubrin .ipynb",
      "provenance": [],
      "collapsed_sections": [],
      "include_colab_link": true
    },
    "kernelspec": {
      "name": "python3",
      "display_name": "Python 3"
    }
  },
  "cells": [
    {
      "cell_type": "markdown",
      "metadata": {
        "id": "view-in-github",
        "colab_type": "text"
      },
      "source": [
        "<a href=\"https://colab.research.google.com/github/aubrin-s/AEOP-REAP/blob/master/Titanic_aubrin_.ipynb\" target=\"_parent\"><img src=\"https://colab.research.google.com/assets/colab-badge.svg\" alt=\"Open In Colab\"/></a>"
      ]
    },
    {
      "cell_type": "markdown",
      "metadata": {
        "id": "m0tzWGT_J_oj",
        "colab_type": "text"
      },
      "source": [
        "#Titanic Problem"
      ]
    },
    {
      "cell_type": "markdown",
      "metadata": {
        "id": "RREahG1DKD0T",
        "colab_type": "text"
      },
      "source": [
        "##Functions"
      ]
    },
    {
      "cell_type": "code",
      "metadata": {
        "id": "b3cGS1K_fBcp",
        "colab_type": "code",
        "colab": {}
      },
      "source": [
        "import pandas as pd\n",
        "import numpy as np\n",
        "import matplotlib.pyplot as plt\n",
        "from sklearn import preprocessing\n",
        "from sklearn.model_selection import train_test_split\n",
        "from sklearn.metrics import make_scorer, accuracy_score, f1_score, recall_score, precision_score\n",
        "from sklearn.model_selection import GridSearchCV,train_test_split\n",
        "import warnings\n",
        "\n",
        "warnings.filterwarnings(\"ignore\")\n",
        "\n",
        "train = pd.read_csv('train.csv')\n",
        "test = pd.read_csv('test.csv')\n",
        "\n",
        "\n",
        "def simplify_ages(df):\n",
        "    #df.Age = df.Age.fillna(df.Age.mean())\n",
        "    df.Age = df.Age.fillna(-0.5)\n",
        "    bins = (-1, 0, 5, 12, 18, 25, 35, 60, 120)\n",
        "    group_names = ['Unknown', 'Baby', 'Child', 'Teenager', 'Student', 'Young Adult', 'Adult', 'Senior']\n",
        "    categories = pd.cut(df.Age, bins, labels=group_names)\n",
        "    df.Age = categories\n",
        "    return df\n",
        "\n",
        "def simplify_cabins(df):\n",
        "    df.Cabin = df.Cabin.fillna('N')\n",
        "    df.Cabin = df.Cabin.apply(lambda x: x[0])\n",
        "    return df\n",
        "\n",
        "def simplify_fares(df):\n",
        "    df.Fare = df.Fare.fillna(-0.5)\n",
        "    bins = (-1, 0, 8, 15, 31, 1000)\n",
        "    group_names = ['Unknown', '1_quartile', '2_quartile', '3_quartile', '4_quartile']\n",
        "    categories = pd.cut(df.Fare, bins, labels=group_names)\n",
        "    df.Fare = categories\n",
        "    return df\n",
        "\n",
        "def format_name(df):\n",
        "    df['Lname'] = df.Name.apply(lambda x: x.split(' ')[0])\n",
        "    df['NamePrefix'] = df.Name.apply(lambda x: x.split(' ')[1])\n",
        "    return df    \n",
        "    \n",
        "def drop_features(df):\n",
        "    return df.drop(['Ticket', 'Name', 'Embarked'], axis=1)\n",
        "\n",
        "def transform_features(df):\n",
        "    df = simplify_ages(df)\n",
        "    df = simplify_cabins(df)\n",
        "    df = simplify_fares(df)\n",
        "    df = format_name(df)\n",
        "    df = drop_features(df)\n",
        "    return df\n",
        "\n",
        "train = transform_features(train)\n",
        "test = transform_features(test)\n",
        "\n",
        "def encode_features(df_train, df_test):\n",
        "    features = ['Fare', 'Cabin', 'Age', 'Sex', 'Lname', 'NamePrefix']\n",
        "    df_combined = pd.concat([df_train[features], df_test[features]])\n",
        "    \n",
        "    for feature in features:\n",
        "        le = preprocessing.LabelEncoder()\n",
        "        le = le.fit(df_combined[feature])\n",
        "        df_train[feature] = le.transform(df_train[feature])\n",
        "        df_test[feature] = le.transform(df_test[feature])\n",
        "    return df_train, df_test\n",
        "\n",
        "# ACC\n",
        "def accuracy(clf,X_val,y_val):\n",
        "  acc_random_forest = round(clf.score(X_val, y_val) * 100, 2)\n",
        "  print (\"Validation Accuracy: \" + str(acc_random_forest) + '%')\n",
        "\n",
        "# Recall\n",
        "def recall(y_val,y_pred_val):\n",
        "    recall = round(recall_score(y_val, y_pred_val) *100, 2)\n",
        "    print(\"Validation Recall:\" + str(recall) + '%')\n",
        "\n",
        "# Precision\n",
        "def precision(y_val,y_pred_val):\n",
        "    precision = round(precision_score(y_val, y_pred_val) *100, 2)\n",
        "    print(\"Validation Precision:\" + str(precision) + '%')\n",
        "# F1\n",
        "def f1(y_val,y_pred_val):\n",
        "    f1 = round(f1_score(y_val, y_pred_val) *100, 2)\n",
        "    print(\"Validation F1:\" + str(f1) + '%')\n",
        "\n",
        "train, test = encode_features(train, test)\n",
        "train.head()\n",
        "\n",
        "\n",
        "X_all = train.drop(['Survived','PassengerId'], axis=1)\n",
        "y_all = train['Survived']\n",
        "X_test = test.drop(\"PassengerId\", axis=1).copy()\n",
        "num_test = 0.20\n",
        "X_train, X_val, y_train, y_val = train_test_split(X_all, y_all, test_size=num_test, random_state=23)\n",
        "\n",
        "\n",
        "#ids = test['PassengerId']\n",
        "#predictions = clf.predict(test.drop('PassengerId', axis=1))\n",
        "\n",
        "#output = pd.DataFrame({ 'PassengerId' : ids, 'Survived': predictions })\n",
        "#output.to_csv('titanic-predictions.csv', index = False)"
      ],
      "execution_count": null,
      "outputs": []
    },
    {
      "cell_type": "markdown",
      "metadata": {
        "id": "L6xB7SI7KLyA",
        "colab_type": "text"
      },
      "source": [
        "##RandomForestClassifier"
      ]
    },
    {
      "cell_type": "code",
      "metadata": {
        "id": "fJcimURbfVTy",
        "colab_type": "code",
        "colab": {
          "base_uri": "https://localhost:8080/",
          "height": 85
        },
        "outputId": "f5d1e1d1-bff7-40fc-8c5a-ab915c7ef259"
      },
      "source": [
        "from sklearn.ensemble import RandomForestClassifier\n",
        "clf = RandomForestClassifier()\n",
        "clf.fit(X_train, y_train)\n",
        "y_pred_val = clf.predict(X_val)\n",
        "# accuarcy\n",
        "accuracy(clf,X_val,y_val)\n",
        "# recall\n",
        "recall(y_val,y_pred_val)\n",
        "# Precision\n",
        "precision(y_val,y_pred_val)\n",
        "# F1 \n",
        "f1(y_val, y_pred_val)"
      ],
      "execution_count": null,
      "outputs": [
        {
          "output_type": "stream",
          "text": [
            "Validation Accuracy: 81.56%\n",
            "Validation Recall:70.31%\n",
            "Validation Precision:76.27%\n",
            "Validation F1:73.17%\n"
          ],
          "name": "stdout"
        }
      ]
    },
    {
      "cell_type": "markdown",
      "metadata": {
        "id": "odQXGlFHVGc5",
        "colab_type": "text"
      },
      "source": [
        "##GradientBoostingClassifier"
      ]
    },
    {
      "cell_type": "code",
      "metadata": {
        "id": "L7wg0xD4TYlT",
        "colab_type": "code",
        "colab": {
          "base_uri": "https://localhost:8080/",
          "height": 85
        },
        "outputId": "f1cac66c-3eed-4558-9740-d9a7ee670859"
      },
      "source": [
        "from sklearn.ensemble import GradientBoostingClassifier\n",
        "clf1= GradientBoostingClassifier\n",
        "\n",
        "clf1 = GradientBoostingClassifier(n_estimators=100, learning_rate=1.0,\n",
        "     max_depth=1, random_state=0).fit(X_train, y_train)\n",
        "y_pred_gb = clf1.predict(X_val)\n",
        "\n",
        "#clf.score(X_val, y_val) #same thing as accuracy\n",
        "\n",
        "accuracy(clf1,X_val,y_val)\n",
        "recall(y_val,y_pred_gb)\n",
        "precision(y_val,y_pred_gb)\n",
        "f1(y_val, y_pred_gb)"
      ],
      "execution_count": null,
      "outputs": [
        {
          "output_type": "stream",
          "text": [
            "Validation Accuracy: 82.68%\n",
            "Validation Recall:73.44%\n",
            "Validation Precision:77.05%\n",
            "Validation F1:75.2%\n"
          ],
          "name": "stdout"
        }
      ]
    },
    {
      "cell_type": "markdown",
      "metadata": {
        "id": "m1ItpLEZXdYL",
        "colab_type": "text"
      },
      "source": [
        "##DecisionTreeClassifier"
      ]
    },
    {
      "cell_type": "code",
      "metadata": {
        "id": "VuoS0V8fVUis",
        "colab_type": "code",
        "colab": {
          "base_uri": "https://localhost:8080/",
          "height": 85
        },
        "outputId": "fe8f23b9-df54-4fac-d9bc-0acb7b7995a4"
      },
      "source": [
        "from sklearn import tree\n",
        "clf = tree.DecisionTreeClassifier()\n",
        "clf.fit(X_train, y_train)\n",
        "y_pred_dtc = clf.predict(X_val)\n",
        "\n",
        "accuracy(clf,X_val,y_val)\n",
        "recall(y_val,y_pred_dtc)\n",
        "precision(y_val,y_pred_dtc)\n",
        "f1(y_val, y_pred_dtc)\n"
      ],
      "execution_count": null,
      "outputs": [
        {
          "output_type": "stream",
          "text": [
            "Validation Accuracy: 76.54%\n",
            "Validation Recall:73.44%\n",
            "Validation Precision:65.28%\n",
            "Validation F1:69.12%\n"
          ],
          "name": "stdout"
        }
      ]
    },
    {
      "cell_type": "markdown",
      "metadata": {
        "id": "oa8GF5ZsKP3D",
        "colab_type": "text"
      },
      "source": [
        "##NearestCentroid"
      ]
    },
    {
      "cell_type": "code",
      "metadata": {
        "id": "cc-RKtyKIqhj",
        "colab_type": "code",
        "colab": {
          "base_uri": "https://localhost:8080/",
          "height": 85
        },
        "outputId": "2c23547e-43ea-43a6-d47c-dbcc214205c9"
      },
      "source": [
        "from sklearn.neighbors import NearestCentroid\n",
        "nc = NearestCentroid()\n",
        "nc.fit(X_train, y_train)\n",
        "NearestCentroid()\n",
        "y_pred_nc= nc.predict(X_val)\n",
        "\n",
        "accuracy(nc,X_val,y_val)\n",
        "recall(y_val,y_pred_nc)\n",
        "precision(y_val,y_pred_nc)\n",
        "f1(y_val, y_pred_nc)"
      ],
      "execution_count": null,
      "outputs": [
        {
          "output_type": "stream",
          "text": [
            "Validation Accuracy: 49.72%\n",
            "Validation Recall:43.75%\n",
            "Validation Precision:34.15%\n",
            "Validation F1:38.36%\n"
          ],
          "name": "stdout"
        }
      ]
    },
    {
      "cell_type": "markdown",
      "metadata": {
        "id": "0feDu-CtXgek",
        "colab_type": "text"
      },
      "source": [
        "##MLPClassifier"
      ]
    },
    {
      "cell_type": "code",
      "metadata": {
        "id": "R82CPNPCXZUx",
        "colab_type": "code",
        "colab": {}
      },
      "source": [
        "from sklearn.neural_network import MLPClassifier\n",
        "clf = MLPClassifier(solver='lbfgs', alpha=1e-5,\n",
        "                     hidden_layer_sizes=(5, 2), random_state=1)\n",
        "clf.fit(X_train, y_train)\n",
        "y_pred_nn = clf.predict(X_val)\n",
        "\n",
        "accuracy(clf,X_val,y_val)\n",
        "recall(y_val,y_pred_nn)\n",
        "precision(y_val,y_pred_nn)\n",
        "f1(y_val, y_pred_nn)"
      ],
      "execution_count": null,
      "outputs": []
    },
    {
      "cell_type": "markdown",
      "metadata": {
        "id": "htguTGYjaRN1",
        "colab_type": "text"
      },
      "source": [
        "##GaussianNB"
      ]
    },
    {
      "cell_type": "code",
      "metadata": {
        "id": "5grne9N0Zth_",
        "colab_type": "code",
        "colab": {
          "base_uri": "https://localhost:8080/",
          "height": 85
        },
        "outputId": "88d7dd77-d352-46b0-b670-19968c1f8a9e"
      },
      "source": [
        "from sklearn.naive_bayes import GaussianNB\n",
        "from sklearn.datasets import load_iris\n",
        "gnb = GaussianNB()\n",
        "y_pred_gnb = gnb.fit(X_train, y_train).predict(X_val)\n",
        "\n",
        "accuracy(gnb,X_val,y_val)\n",
        "recall(y_val,y_pred_gnb)\n",
        "precision(y_val,y_pred_gnb)\n",
        "f1(y_val, y_pred_gnb)"
      ],
      "execution_count": null,
      "outputs": [
        {
          "output_type": "stream",
          "text": [
            "Validation Accuracy: 77.65%\n",
            "Validation Recall:76.56%\n",
            "Validation Precision:66.22%\n",
            "Validation F1:71.01%\n"
          ],
          "name": "stdout"
        }
      ]
    },
    {
      "cell_type": "markdown",
      "metadata": {
        "id": "whacNqKgbgUL",
        "colab_type": "text"
      },
      "source": [
        "##Creating Submissions"
      ]
    },
    {
      "cell_type": "code",
      "metadata": {
        "id": "4DxS2-MsblHO",
        "colab_type": "code",
        "colab": {}
      },
      "source": [
        "import pandas as pd\n",
        "\n",
        "y_pred_test = clf1.predict(X_test)\n",
        "submission = pd.DataFrame({\"PassengerId\": test[\"PassengerId\"], \"Survived\": y_pred_test})\n",
        "submission.to_csv('titanicresult.csv', index=False)"
      ],
      "execution_count": null,
      "outputs": []
    }
  ]
}
