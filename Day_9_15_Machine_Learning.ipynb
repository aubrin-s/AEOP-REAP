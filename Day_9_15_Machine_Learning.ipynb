{
  "nbformat": 4,
  "nbformat_minor": 0,
  "metadata": {
    "colab": {
      "name": "Day 9-15 Machine Learning.ipynb",
      "provenance": [],
      "collapsed_sections": [
        "I7GqgA1q7zV6",
        "rh7UcUfBy_4R",
        "BX-5ipfWQXFJ",
        "9EU9TLpyYU2B",
        "qfMRARFirXCq",
        "TkZDXJ4PoP13",
        "p0isd1Mxp-Bs",
        "pgfayHj8ufs4",
        "QYwD6ewCwY2Q",
        "3uCUGda1Nqdu",
        "epPSo1ALU3yC",
        "z-zO5hWGzJ5z",
        "lSRdF4mC8j7X",
        "jVpFU79gunFq",
        "nbYnIhZEyrEh",
        "p6M6P6K-3gRY",
        "4deo9jIAEX-y",
        "32oBrSe02XVQ",
        "jFf36Ed7zeW9",
        "097TaQ-eTnKb",
        "VKTsGJLSyS4O",
        "7D6ZqK1BCWNJ",
        "ecqC1ztJVQyz",
        "15jkj0rwX2Tx",
        "mXCzP7m0aaZ6",
        "5kyLg6uieP23",
        "vQIODmvlgvuR",
        "BRnKjG9YuQsO",
        "CdXBsQattEIm",
        "oOrcWsdDzCXb",
        "Wsdl4oA_2FR4",
        "v2xRpjj3kLX2",
        "PvWucJucpCus",
        "YFEIYctxxtxq",
        "zcBJ66pSs_tZ",
        "Qbojm6mFuqyz",
        "gJQQVJRlywTP",
        "y8IIU2Y-yi6c"
      ],
      "include_colab_link": true
    },
    "kernelspec": {
      "name": "python3",
      "display_name": "Python 3"
    }
  },
  "cells": [
    {
      "cell_type": "markdown",
      "metadata": {
        "id": "view-in-github",
        "colab_type": "text"
      },
      "source": [
        "<a href=\"https://colab.research.google.com/github/aubrin-s/AEOP-REAP/blob/master/Day_9_15_Machine_Learning.ipynb\" target=\"_parent\"><img src=\"https://colab.research.google.com/assets/colab-badge.svg\" alt=\"Open In Colab\"/></a>"
      ]
    },
    {
      "cell_type": "markdown",
      "metadata": {
        "id": "I7GqgA1q7zV6",
        "colab_type": "text"
      },
      "source": [
        "#Install"
      ]
    },
    {
      "cell_type": "markdown",
      "metadata": {
        "id": "1vQmCgInAVhd",
        "colab_type": "text"
      },
      "source": [
        "*note:\n",
        "day 8 was GitHub Tutorials,\n",
        "this was week 7/13-17"
      ]
    },
    {
      "cell_type": "code",
      "metadata": {
        "id": "yHXl3nWU7VQI",
        "colab_type": "code",
        "colab": {
          "base_uri": "https://localhost:8080/",
          "height": 102
        },
        "outputId": "4276accd-75c9-4115-993c-166740d47637"
      },
      "source": [
        "pip install sklearn\n"
      ],
      "execution_count": null,
      "outputs": [
        {
          "output_type": "stream",
          "text": [
            "Requirement already satisfied: sklearn in /usr/local/lib/python3.6/dist-packages (0.0)\n",
            "Requirement already satisfied: scikit-learn in /usr/local/lib/python3.6/dist-packages (from sklearn) (0.22.2.post1)\n",
            "Requirement already satisfied: numpy>=1.11.0 in /usr/local/lib/python3.6/dist-packages (from scikit-learn->sklearn) (1.18.5)\n",
            "Requirement already satisfied: joblib>=0.11 in /usr/local/lib/python3.6/dist-packages (from scikit-learn->sklearn) (0.16.0)\n",
            "Requirement already satisfied: scipy>=0.17.0 in /usr/local/lib/python3.6/dist-packages (from scikit-learn->sklearn) (1.4.1)\n"
          ],
          "name": "stdout"
        }
      ]
    },
    {
      "cell_type": "code",
      "metadata": {
        "id": "dU82Tmr47kwe",
        "colab_type": "code",
        "colab": {
          "base_uri": "https://localhost:8080/",
          "height": 326
        },
        "outputId": "ad909a33-0d99-4c3c-d789-18dd538e39a4"
      },
      "source": [
        "pip install quandl"
      ],
      "execution_count": null,
      "outputs": [
        {
          "output_type": "stream",
          "text": [
            "Collecting quandl\n",
            "  Downloading https://files.pythonhosted.org/packages/21/ce/281f4ae2554ba676735157a91205e808af149e97be534d6a1b9196638e63/Quandl-3.5.1-py2.py3-none-any.whl\n",
            "Requirement already satisfied: numpy>=1.8 in /usr/local/lib/python3.6/dist-packages (from quandl) (1.18.5)\n",
            "Requirement already satisfied: six in /usr/local/lib/python3.6/dist-packages (from quandl) (1.12.0)\n",
            "Requirement already satisfied: more-itertools in /usr/local/lib/python3.6/dist-packages (from quandl) (8.4.0)\n",
            "Requirement already satisfied: requests>=2.7.0 in /usr/local/lib/python3.6/dist-packages (from quandl) (2.23.0)\n",
            "Requirement already satisfied: pandas>=0.14 in /usr/local/lib/python3.6/dist-packages (from quandl) (1.0.5)\n",
            "Requirement already satisfied: python-dateutil in /usr/local/lib/python3.6/dist-packages (from quandl) (2.8.1)\n",
            "Collecting inflection>=0.3.1\n",
            "  Downloading https://files.pythonhosted.org/packages/d2/cd/f04c661d1b5ba6b7d77008e8fedd28a27a683eeeffcd93c6b2dbe54ea983/inflection-0.5.0-py2.py3-none-any.whl\n",
            "Requirement already satisfied: idna<3,>=2.5 in /usr/local/lib/python3.6/dist-packages (from requests>=2.7.0->quandl) (2.10)\n",
            "Requirement already satisfied: chardet<4,>=3.0.2 in /usr/local/lib/python3.6/dist-packages (from requests>=2.7.0->quandl) (3.0.4)\n",
            "Requirement already satisfied: urllib3!=1.25.0,!=1.25.1,<1.26,>=1.21.1 in /usr/local/lib/python3.6/dist-packages (from requests>=2.7.0->quandl) (1.24.3)\n",
            "Requirement already satisfied: certifi>=2017.4.17 in /usr/local/lib/python3.6/dist-packages (from requests>=2.7.0->quandl) (2020.6.20)\n",
            "Requirement already satisfied: pytz>=2017.2 in /usr/local/lib/python3.6/dist-packages (from pandas>=0.14->quandl) (2018.9)\n",
            "Installing collected packages: inflection, quandl\n",
            "Successfully installed inflection-0.5.0 quandl-3.5.1\n"
          ],
          "name": "stdout"
        }
      ]
    },
    {
      "cell_type": "code",
      "metadata": {
        "id": "YRV-sGje7f27",
        "colab_type": "code",
        "colab": {
          "base_uri": "https://localhost:8080/",
          "height": 102
        },
        "outputId": "66a9d16d-1c41-489e-8d9e-08abd994aa45"
      },
      "source": [
        "pip install pandas"
      ],
      "execution_count": null,
      "outputs": [
        {
          "output_type": "stream",
          "text": [
            "Requirement already satisfied: pandas in /usr/local/lib/python3.6/dist-packages (1.0.5)\n",
            "Requirement already satisfied: numpy>=1.13.3 in /usr/local/lib/python3.6/dist-packages (from pandas) (1.18.5)\n",
            "Requirement already satisfied: pytz>=2017.2 in /usr/local/lib/python3.6/dist-packages (from pandas) (2018.9)\n",
            "Requirement already satisfied: python-dateutil>=2.6.1 in /usr/local/lib/python3.6/dist-packages (from pandas) (2.8.1)\n",
            "Requirement already satisfied: six>=1.5 in /usr/local/lib/python3.6/dist-packages (from python-dateutil>=2.6.1->pandas) (1.12.0)\n"
          ],
          "name": "stdout"
        }
      ]
    },
    {
      "cell_type": "code",
      "metadata": {
        "id": "nXYuX4UU7f09",
        "colab_type": "code",
        "colab": {}
      },
      "source": [
        "import pandas as pd \n",
        "import quandl\n",
        "import math\n",
        "from sklearn import preprocessing, model_selection, svm\n",
        "from sklearn.linear_model import LinearRegression\n",
        "import numpy as np\n",
        "import datetime \n",
        "import matplotlib.pyplot as plt\n",
        "from matplotlib import style\n",
        "import random\n",
        "import pickle\n",
        "from collections import Counter"
      ],
      "execution_count": null,
      "outputs": []
    },
    {
      "cell_type": "markdown",
      "metadata": {
        "id": "rh7UcUfBy_4R",
        "colab_type": "text"
      },
      "source": [
        "# Linear Regression 1-12"
      ]
    },
    {
      "cell_type": "markdown",
      "metadata": {
        "id": "BX-5ipfWQXFJ",
        "colab_type": "text"
      },
      "source": [
        "## 1-2 Regression Intro"
      ]
    },
    {
      "cell_type": "code",
      "metadata": {
        "id": "RnP9dKiJQVdh",
        "colab_type": "code",
        "colab": {
          "base_uri": "https://localhost:8080/",
          "height": 136
        },
        "outputId": "b21d02c9-ce0a-4b77-a689-73650be03b02"
      },
      "source": [
        "import pandas as pd \n",
        "import quandl\n",
        "\n",
        "df = quandl.get(\"EOD/DIS\", authtoken=\"Dbe_ku9TBLRgTk-zbxFa\")\n",
        "#print(df.head())\n",
        "df = df[['Adj_Open','Adj_High','Adj_Low','Adj_Close','Adj_Volume']]\n",
        "\n",
        "df['HL_PCT']=(df['Adj_High']-df['Adj_Close'])/df['Adj_Close'] * 100.0\n",
        "df['PCT_Change']=(df['Adj_Close']-df['Adj_Open'])/df['Adj_Open'] * 100.0\n",
        "\n",
        "df = df[['Adj_Close', 'HL_PCT', 'PCT_Change', 'Adj_Volume']]\n",
        "print(df.head())"
      ],
      "execution_count": null,
      "outputs": [
        {
          "output_type": "stream",
          "text": [
            "            Adj_Close    HL_PCT  PCT_Change  Adj_Volume\n",
            "Date                                                   \n",
            "2013-09-03  55.405117  1.739701   -0.797786   7016400.0\n",
            "2013-09-04  55.568796  0.180003    0.311884  14014600.0\n",
            "2013-09-05  55.741567  0.489396    0.376617   6356600.0\n",
            "2013-09-06  55.823406  0.716729   -0.130145   7319400.0\n",
            "2013-09-09  56.005271  0.397792   -0.016234   7224500.0\n"
          ],
          "name": "stdout"
        }
      ]
    },
    {
      "cell_type": "markdown",
      "metadata": {
        "id": "9EU9TLpyYU2B",
        "colab_type": "text"
      },
      "source": [
        "## 3 Regression Features and Labels"
      ]
    },
    {
      "cell_type": "code",
      "metadata": {
        "id": "yjroGl_aYXw3",
        "colab_type": "code",
        "colab": {
          "base_uri": "https://localhost:8080/",
          "height": 136
        },
        "outputId": "204fa6b6-e0f8-41a1-c6d8-873128ed6f7a"
      },
      "source": [
        "import math\n",
        "forecast_col= 'Adj_Close'\n",
        "df.fillna(-99999, inplace=True) #replaces na and blanks \n",
        "forecast_out = int(math.ceil(0.01*len(df))) #to get 10 days in the future\n",
        "\n",
        "df ['label'] = df[forecast_col].shift(-forecast_out)\n",
        "\n",
        "\n",
        "\n",
        "df.dropna(inplace=True)\n",
        "\n",
        "print(df.head())\n"
      ],
      "execution_count": null,
      "outputs": [
        {
          "output_type": "stream",
          "text": [
            "            Adj_Close    HL_PCT  PCT_Change  Adj_Volume      label\n",
            "Date                                                              \n",
            "2013-09-03  55.405117  1.739701   -0.797786   7016400.0  61.024740\n",
            "2013-09-04  55.568796  0.180003    0.311884  14014600.0  59.760780\n",
            "2013-09-05  55.741567  0.489396    0.376617   6356600.0  59.115160\n",
            "2013-09-06  55.823406  0.716729   -0.130145   7319400.0  58.878735\n",
            "2013-09-09  56.005271  0.397792   -0.016234   7224500.0  58.487726\n"
          ],
          "name": "stdout"
        }
      ]
    },
    {
      "cell_type": "markdown",
      "metadata": {
        "id": "qfMRARFirXCq",
        "colab_type": "text"
      },
      "source": [
        "##4 Regression Training and Testing"
      ]
    },
    {
      "cell_type": "code",
      "metadata": {
        "id": "2LJWHU2KhEXb",
        "colab_type": "code",
        "colab": {}
      },
      "source": [
        "from sklearn import preprocessing, model_selection, svm\n",
        "from sklearn.linear_model import LinearRegression\n",
        "import numpy as np\n",
        "X = np.array(df.drop(['label'],1))\n",
        "y = np.array(df['label'])\n",
        "X = preprocessing.scale(X)\n",
        "y = np.array(df['label'])\n"
      ],
      "execution_count": null,
      "outputs": []
    },
    {
      "cell_type": "code",
      "metadata": {
        "id": "0w0ZQMKorscU",
        "colab_type": "code",
        "colab": {}
      },
      "source": [
        "X_train, X_test, y_train, y_test = model_selection.train_test_split(X,y, test_size=0.2)\n",
        "\n",
        "#clf= svm.SVR(kernel='poly') #score vector regression\n",
        "clf=LinearRegression()  #(n_jobs=10)\n",
        "clf.fit(X_train, y_train)\n",
        "accuracy = clf.score(X_test,y_test)  #confidence level\n",
        "print(accuracy)"
      ],
      "execution_count": null,
      "outputs": []
    },
    {
      "cell_type": "markdown",
      "metadata": {
        "id": "TkZDXJ4PoP13",
        "colab_type": "text"
      },
      "source": [
        "##5 Regression forecasting and predicting\n",
        "\n",
        "\n"
      ]
    },
    {
      "cell_type": "code",
      "metadata": {
        "id": "IkV4sxh487pv",
        "colab_type": "code",
        "colab": {
          "base_uri": "https://localhost:8080/",
          "height": 68
        },
        "outputId": "043460ab-f58a-47e9-9ecc-fcd64f939f04"
      },
      "source": [
        "df = quandl.get(\"EOD/DIS\", authtoken=\"Dbe_ku9TBLRgTk-zbxFa\")\n",
        "#print(df.head())\n",
        "df = df[['Adj_Open','Adj_High','Adj_Low','Adj_Close','Adj_Volume']]\n",
        "\n",
        "df['HL_PCT']=(df['Adj_High']-df['Adj_Close'])/df['Adj_Close'] * 100.0\n",
        "df['PCT_Change']=(df['Adj_Close']-df['Adj_Open'])/df['Adj_Open'] * 100.0\n",
        "\n",
        "df = df[['Adj_Close', 'HL_PCT', 'PCT_Change', 'Adj_Volume']]\n",
        "\n",
        "df ['label'] = df[forecast_col].shift(-forecast_out)\n",
        "\n",
        "X = np.array(df.drop(['label'],1))\n",
        "X = X[:-forecast_out:]\n",
        "X_lately = X[-forecast_out:]\n",
        "X = preprocessing.scale(X)\n",
        "\n",
        "df.dropna(inplace=True)\n",
        "\n",
        "y = np.array(df['label'])\n",
        "X_train, X_test, y_train, y_test = model_selection.train_test_split(X,y, test_size=0.2)\n",
        "\n",
        "clf=LinearRegression(n_jobs=10)\n",
        "clf.fit(X_train, y_train)\n",
        "accuracy = clf.score(X_test,y_test) \n",
        "\n",
        "forecast_set = clf.predict(X_lately)\n",
        "print(forecast_set, accuracy, forecast_out) #gives you the next 30 days for prices"
      ],
      "execution_count": null,
      "outputs": [
        {
          "output_type": "stream",
          "text": [
            "[-1739472.56599228 -3003353.12235121 -2060181.73623699 -1917058.06752665\n",
            " -3691621.31452473 -2703595.20168997 -1680718.40618469 -2059491.32604027\n",
            " -1352957.75548494 -1539007.33196359 -1683738.47995964] 0.9259802485945979 11\n"
          ],
          "name": "stdout"
        }
      ]
    },
    {
      "cell_type": "code",
      "metadata": {
        "id": "VrL0RNJ8kiD5",
        "colab_type": "code",
        "colab": {
          "base_uri": "https://localhost:8080/",
          "height": 277
        },
        "outputId": "e5bbdc82-4ce8-409c-8603-66ce4569f3a0"
      },
      "source": [
        "import datetime \n",
        "import matplotlib.pyplot as plt\n",
        "from matplotlib import style\n",
        "\n",
        "style.use('ggplot')\n",
        "\n",
        "df['Forecast']=np.nan\n",
        "last_date = df.iloc[-1].name\n",
        "last_unix = last_date.timestamp()\n",
        "one_day=86400\n",
        "next_unix = last_unix + one_day\n",
        "\n",
        "for i in forecast_set:\n",
        "  next_date = datetime.datetime.fromtimestamp(next_unix)\n",
        "  next_unix += one_day\n",
        "  df.loc[next_date] = [np.nan for _ in range(len(df.columns)-1)] + [i]\n",
        "\n",
        "df['Adj_Close'].plot()\n",
        "df['Forecast']\n",
        "\n",
        "plt.legend(loc=4)\n",
        "plt.xlabel('Date')\n",
        "plt.ylabel('Price')\n",
        "plt.show()\n"
      ],
      "execution_count": null,
      "outputs": [
        {
          "output_type": "display_data",
          "data": {
            "image/png": "[encoded data removed]",
            "text/plain": [
              "<Figure size 432x288 with 1 Axes>"
            ]
          },
          "metadata": {
            "tags": []
          }
        }
      ]
    },
    {
      "cell_type": "markdown",
      "metadata": {
        "id": "p0isd1Mxp-Bs",
        "colab_type": "text"
      },
      "source": [
        "##6 Pickling and Scaling"
      ]
    },
    {
      "cell_type": "code",
      "metadata": {
        "id": "D3x8QS3ep7OH",
        "colab_type": "code",
        "colab": {
          "base_uri": "https://localhost:8080/",
          "height": 331
        },
        "outputId": "c1ff0343-43b5-46fb-8612-ad647c5679b9"
      },
      "source": [
        "import pickle\n",
        "\n",
        "clf=LinearRegression(n_jobs=10)\n",
        "clf.fit(X_train, y_train)\n",
        "with open ('linearregression.pickle', 'wb') as f:\n",
        "  pickle.dump(clf, f)\n",
        "  pickle_in = open('linearregression.pickle', 'rb')\n",
        "clf=pickle.load(pickle_in)\n",
        "\n",
        "\n",
        "accuracy = clf.score(X_test,y_test) \n",
        "\n",
        "forecast_set = clf.predict(X_lately)\n",
        "print(forecast_set, accuracy, forecast_out)\n",
        "\n",
        "\n",
        "style.use('ggplot')\n",
        "\n",
        "df['Forecast']=np.nan\n",
        "last_date = df.iloc[-1].name\n",
        "last_unix = last_date.timestamp()\n",
        "one_day=86400\n",
        "next_unix = last_unix + one_day\n",
        "\n",
        "for i in forecast_set:\n",
        "  next_date = datetime.datetime.fromtimestamp(next_unix)\n",
        "  next_unix += one_day\n",
        "  df.loc[next_date] = [np.nan for _ in range(len(df.columns)-1)] + [i]\n",
        "\n",
        "df['Adj_Close'].plot()\n",
        "df['Forecast']\n",
        "\n",
        "plt.legend(loc=4)\n",
        "plt.xlabel('Date')\n",
        "plt.ylabel('Price')\n",
        "plt.show()"
      ],
      "execution_count": null,
      "outputs": [
        {
          "output_type": "stream",
          "text": [
            "[-3553127.72803162 -6133781.68975645 -4207978.99343033 -3915750.72611269\n",
            " -7539174.02013238 -5521750.94201253 -3433187.58758964 -4206574.88484206\n",
            " -2763950.59560111 -3143866.8650632  -3439390.14375042] 0.9266720453679215 11\n"
          ],
          "name": "stdout"
        },
        {
          "output_type": "display_data",
          "data": {
            "image/png": "[encoded data removed]",
            "text/plain": [
              "<Figure size 432x288 with 1 Axes>"
            ]
          },
          "metadata": {
            "tags": []
          }
        }
      ]
    },
    {
      "cell_type": "markdown",
      "metadata": {
        "id": "pgfayHj8ufs4",
        "colab_type": "text"
      },
      "source": [
        "##7 Regression How it Works (notes, no code)"
      ]
    },
    {
      "cell_type": "markdown",
      "metadata": {
        "id": "uiLY6qeGvMoG",
        "colab_type": "text"
      },
      "source": [
        "Best fit line \n",
        "\n",
        "*   y=mx+b"
      ]
    },
    {
      "cell_type": "markdown",
      "metadata": {
        "id": "QYwD6ewCwY2Q",
        "colab_type": "text"
      },
      "source": [
        "##8-9 How to program the Best Fit Slope - Finding m & b\n",
        "\n"
      ]
    },
    {
      "cell_type": "code",
      "metadata": {
        "id": "aqgi-zHFuifP",
        "colab_type": "code",
        "colab": {
          "base_uri": "https://localhost:8080/",
          "height": 34
        },
        "outputId": "168821c6-6901-469b-ffdc-ca77b6ab76f8"
      },
      "source": [
        "from statistics import mean\n",
        "import numpy as np\n",
        "\n",
        "xs= np.array([1,2,3,4,5,6], dtype=np.float64)\n",
        "ys= np.array([5,4,6,5,6,7], dtype=np.float64)\n",
        "\n",
        "def best_fit_slope(xs,ys):\n",
        "  m = ( ((mean(xs)*mean(ys))-mean(xs*ys)) /\n",
        "       ((mean(xs)**2) - mean(xs**2)))\n",
        "  return m \n",
        "m=best_fit_slope(xs,ys)\n",
        "\n",
        "print(m)"
      ],
      "execution_count": null,
      "outputs": [
        {
          "output_type": "stream",
          "text": [
            "0.42857142857142866\n"
          ],
          "name": "stdout"
        }
      ]
    },
    {
      "cell_type": "code",
      "metadata": {
        "id": "oB8JMChg7bwW",
        "colab_type": "code",
        "colab": {
          "base_uri": "https://localhost:8080/",
          "height": 282
        },
        "outputId": "75fc8ed9-ad66-4937-c24d-35d1470a49b0"
      },
      "source": [
        "import matplotlib.pyplot as plt\n",
        "from matplotlib import style\n",
        "\n",
        "style.use('fivethirtyeight')\n",
        "\n",
        "xs= np.array([1,2,3,4,5,6], dtype=np.float64)\n",
        "ys= np.array([5,4,6,5,6,7], dtype=np.float64)\n",
        "\n",
        "def best_fit_slope_and_intercept(xs,ys):\n",
        "  m = ( ((mean(xs)*mean(ys))-mean(xs*ys)) /\n",
        "       ((mean(xs)**2) - mean(xs**2)))\n",
        "  b = mean(ys)-m*mean(xs)\n",
        "  return m, b \n",
        "m,b=best_fit_slope_and_intercept(xs,ys)\n",
        "\n",
        "#print(m,b)\n",
        "regression_line= [(m*x)+b for x in xs]\n",
        "\n",
        "\n",
        "predict_x = 8\n",
        "predict_y = (m*predict_x)+b\n",
        "\n",
        "\n",
        "plt.scatter(xs,ys)\n",
        "\n",
        "plt.scatter(predict_x,predict_y, color='g')\n",
        "plt.plot(xs, regression_line)\n",
        "\n",
        "plt.show()"
      ],
      "execution_count": null,
      "outputs": [
        {
          "output_type": "display_data",
          "data": {
            "image/png": "[encoded data removed]",
            "text/plain": [
              "<Figure size 432x288 with 1 Axes>"
            ]
          },
          "metadata": {
            "tags": []
          }
        }
      ]
    },
    {
      "cell_type": "markdown",
      "metadata": {
        "id": "3uCUGda1Nqdu",
        "colab_type": "text"
      },
      "source": [
        "##10-11 R Squared "
      ]
    },
    {
      "cell_type": "code",
      "metadata": {
        "id": "sF0aRf7WNz4b",
        "colab_type": "code",
        "colab": {
          "base_uri": "https://localhost:8080/",
          "height": 299
        },
        "outputId": "8986c9f1-07c7-4794-d6ae-7eb7f91c6715"
      },
      "source": [
        "from statistics import mean\n",
        "import numpy as np\n",
        "import matplotlib.pyplot as plt\n",
        "from matplotlib import style\n",
        "\n",
        "style.use('fivethirtyeight')\n",
        "\n",
        "xs= np.array([1,2,3,4,5,6], dtype=np.float64)\n",
        "ys= np.array([5,4,6,5,6,7], dtype=np.float64)\n",
        "\n",
        "def best_fit_slope_and_intercept(xs,ys):\n",
        "  m = ( ((mean(xs)*mean(ys))-mean(xs*ys)) /\n",
        "       ((mean(xs)**2) - mean(xs**2)))\n",
        "  b = mean(ys)-m*mean(xs)\n",
        "  return m, b \n",
        "\n",
        "def squared_error(ys_orig, ys_line):\n",
        "  return sum((ys_line-ys_orig**2))\n",
        "\n",
        "def coefficient_of_determination(ys_orig,ys_line):\n",
        "  y_mean_line= [mean(ys_orig) for y in ys_orig]\n",
        "  squared_error_regr = squared_error(ys_orig, ys_line)\n",
        "  squared_error_y_mean = squared_error(ys_orig, y_mean_line)\n",
        "  return 1 - (squared_error_regr / squared_error_y_mean)\n",
        "\n",
        "\n",
        "m,b=best_fit_slope_and_intercept(xs,ys)\n",
        "\n",
        "#print(m,b)\n",
        "regression_line= [(m*x)+b for x in xs]\n",
        "\n",
        "\n",
        "predict_x = 8\n",
        "predict_y = (m*predict_x)+b\n",
        "\n",
        "r_squared = coefficient_of_determination(ys, regression_line)\n",
        "print(r_squared)\n",
        "\n",
        "plt.scatter(xs,ys)\n",
        "\n",
        "plt.scatter(predict_x,predict_y, color='g')\n",
        "plt.plot(xs, regression_line)\n",
        "\n",
        "plt.show()"
      ],
      "execution_count": null,
      "outputs": [
        {
          "output_type": "stream",
          "text": [
            "0.0\n"
          ],
          "name": "stdout"
        },
        {
          "output_type": "display_data",
          "data": {
            "image/png": "[encoded data removed]",
            "text/plain": [
              "<Figure size 432x288 with 1 Axes>"
            ]
          },
          "metadata": {
            "tags": []
          }
        }
      ]
    },
    {
      "cell_type": "markdown",
      "metadata": {
        "id": "epPSo1ALU3yC",
        "colab_type": "text"
      },
      "source": [
        "##12 Testing Assumptions"
      ]
    },
    {
      "cell_type": "code",
      "metadata": {
        "id": "222oJtrdVe5K",
        "colab_type": "code",
        "colab": {
          "base_uri": "https://localhost:8080/",
          "height": 299
        },
        "outputId": "00f04190-5524-471f-e237-9457e8a40d16"
      },
      "source": [
        "from statistics import mean\n",
        "import numpy as np\n",
        "import matplotlib.pyplot as plt\n",
        "from matplotlib import style\n",
        "import random\n",
        "\n",
        "style.use('fivethirtyeight')\n",
        "\n",
        "#xs= np.array([1,2,3,4,5,6], dtype=np.float64)\n",
        "#ys= np.array([5,4,6,5,6,7], dtype=np.float64)\n",
        "\n",
        "def create_dataset(hm, varience, step=2, correlation=False):    #hm is 'how many'\n",
        "  val=1\n",
        "  ys=[]\n",
        "  for i in range(hm):\n",
        "    y= val + random.randrange(-varience, varience)\n",
        "    ys.append(y)\n",
        "    if correlation and correlation == 'pos':\n",
        "      val+=step\n",
        "    elif correlation and correlation == 'neg':\n",
        "      val-=step\n",
        "  xs = [i for i in range(len(ys))]\n",
        "  return np.array(xs, dtype=np.float64), np.array(ys, dtype=np.float64)\n",
        "\n",
        "\n",
        "def best_fit_slope_and_intercept(xs,ys):\n",
        "  m = ( ((mean(xs)*mean(ys))-mean(xs*ys)) /\n",
        "       ((mean(xs)**2) - mean(xs**2)))\n",
        "  b = mean(ys)-m*mean(xs)\n",
        "  return m, b \n",
        "\n",
        "def squared_error(ys_orig, ys_line):\n",
        "  return sum((ys_line-ys_orig**2))\n",
        "\n",
        "def coefficient_of_determination(ys_orig,ys_line):\n",
        "  y_mean_line= [mean(ys_orig) for y in ys_orig]\n",
        "  squared_error_regr = squared_error(ys_orig, ys_line)\n",
        "  squared_error_y_mean = squared_error(ys_orig, y_mean_line)\n",
        "  return 1 - (squared_error_regr / squared_error_y_mean)\n",
        "\n",
        "\n",
        "xs,ys = create_dataset(40, 10, 2, correlation='pos')   #if you decrease the varience the r squared increases\n",
        "\n",
        "\n",
        "m,b=best_fit_slope_and_intercept(xs,ys)\n",
        "\n",
        "#print(m,b)\n",
        "regression_line= [(m*x)+b for x in xs]\n",
        "\n",
        "\n",
        "predict_x = 8\n",
        "predict_y = (m*predict_x)+b\n",
        "\n",
        "r_squared = coefficient_of_determination(ys, regression_line)\n",
        "print(r_squared)\n",
        "\n",
        "plt.scatter(xs,ys)\n",
        "#plt.scatter(predict_x,predict_y, color='g')\n",
        "plt.plot(xs, regression_line)\n",
        "plt.show()"
      ],
      "execution_count": null,
      "outputs": [
        {
          "output_type": "stream",
          "text": [
            "1.1102230246251565e-16\n"
          ],
          "name": "stdout"
        },
        {
          "output_type": "display_data",
          "data": {
            "image/png": "[encoded data removed]",
            "text/plain": [
              "<Figure size 432x288 with 1 Axes>"
            ]
          },
          "metadata": {
            "tags": []
          }
        }
      ]
    },
    {
      "cell_type": "code",
      "metadata": {
        "id": "-1phuKIoyyVL",
        "colab_type": "code",
        "colab": {
          "base_uri": "https://localhost:8080/",
          "height": 277
        },
        "outputId": "31dd6c98-9e03-44da-f6dd-db88f7a37db0"
      },
      "source": [
        "df = quandl.get(\"EOD/DIS\", authtoken=\"Dbe_ku9TBLRgTk-zbxFa\")\n",
        "\n",
        "df = df[['Adj_Open','Adj_High','Adj_Low','Adj_Close','Adj_Volume']]\n",
        "\n",
        "df['HL_PCT']=(df['Adj_High']-df['Adj_Close'])/df['Adj_Close'] * 100.0\n",
        "df['PCT_Change']=(df['Adj_Close']-df['Adj_Open'])/df['Adj_Open'] * 100.0\n",
        "\n",
        "#         price          x           x              x\n",
        "df = df[['Adj_Close', 'HL_PCT', 'PCT_Change', 'Adj_Volume']]\n",
        "\n",
        "forecast_col= 'Adj_Close'\n",
        "df.fillna(-99999, inplace=True)\n",
        "\n",
        "forecast_out = int(math.ceil(0.01*len(df))) \n",
        "\n",
        "df ['label'] = df[forecast_col].shift(-forecast_out)\n",
        "\n",
        "X = np.array(df.drop(['label', 'Adj_Close'],1))\n",
        "X = X[:-forecast_out]\n",
        "X_lately = X[-forecast_out:]\n",
        "X = preprocessing.scale(X)\n",
        "\n",
        "\n",
        "df.dropna(inplace=True)\n",
        "y = np.array(df['label'])\n",
        "X_train, X_test, y_train, y_test = model_selection.train_test_split(X,y, test_size=0.2)\n",
        "\n",
        "clf=LinearRegression(n_jobs=10)\n",
        "clf.fit(X_train, y_train)\n",
        "accuracy = clf.score(X_test,y_test) \n",
        "\n",
        "forecast_set = clf.predict(X_lately)\n",
        "#print(forecast_set, accuracy, forecast_out)\n",
        "\n",
        "df['Forecast']=np.nan\n",
        "last_date = df.iloc[-1].name\n",
        "last_unix = last_date.timestamp()\n",
        "one_day=86400\n",
        "next_unix = last_unix + one_day\n",
        "\n",
        "for i in forecast_set:\n",
        "  next_date = datetime.datetime.fromtimestamp(next_unix)\n",
        "  next_unix += one_day\n",
        "  df.loc[next_date] = [np.nan for _ in range(len(df.columns)-1)] + [i]\n",
        "\n",
        "df['Adj_Close'].plot()\n",
        "df['Forecast']\n",
        "\n",
        "plt.legend(loc=4)\n",
        "plt.xlabel('Date')\n",
        "plt.ylabel('Price')\n",
        "plt.show()\n"
      ],
      "execution_count": null,
      "outputs": [
        {
          "output_type": "display_data",
          "data": {
            "image/png": "[encoded data removed]",
            "text/plain": [
              "<Figure size 432x288 with 1 Axes>"
            ]
          },
          "metadata": {
            "tags": []
          }
        }
      ]
    },
    {
      "cell_type": "markdown",
      "metadata": {
        "id": "z-zO5hWGzJ5z",
        "colab_type": "text"
      },
      "source": [
        "# K Nearest Neighbor 13-19"
      ]
    },
    {
      "cell_type": "markdown",
      "metadata": {
        "id": "lSRdF4mC8j7X",
        "colab_type": "text"
      },
      "source": [
        "## 13-14 Classification w/ K Nearest Neighbors\n"
      ]
    },
    {
      "cell_type": "markdown",
      "metadata": {
        "id": "SDiu1TW2H-dX",
        "colab_type": "text"
      },
      "source": [
        "data from https://archive.ics.uci.edu/ml/datasets.php"
      ]
    },
    {
      "cell_type": "code",
      "metadata": {
        "id": "vzTnKKJ4BFfV",
        "colab_type": "code",
        "colab": {
          "base_uri": "https://localhost:8080/",
          "height": 51
        },
        "outputId": "6eb1b453-683b-4c53-b4b4-d982b3858006"
      },
      "source": [
        "import numpy as np\n",
        "from sklearn import preprocessing, model_selection, neighbors\n",
        "import pandas as pd \n",
        "\n",
        "df = pd.read_csv('breast-cancer-wisconsin.data')\n",
        "\n",
        "df.columns = ['id','clump_thickness','unif_cell_size','unif_cell_shape','marg_adhesion','single_epith_cell_size',\n",
        "              'bare_nuclei','bland_chrom','norm_nucleoli','mitoses','class']\n",
        "df.replace('?', -99999, inplace=True)\n",
        "\n",
        "df.drop(['id'],1,inplace=True)\n",
        "\n",
        "X= np.array(df.drop(['class'],1))\n",
        "y= np.array(df['class'])\n",
        "\n",
        "X_train, X_test, y_train, y_test = model_selection.train_test_split(X,y, test_size=0.2)\n",
        "clf = neighbors.KNeighborsClassifier()\n",
        "clf.fit(X_train, y_train)\n",
        "\n",
        "accuracy = clf.score(X_test, y_test)\n",
        "print(accuracy)\n",
        "\n",
        "example_measures = np.array([4,2,1,1,1,2,3,2,1])\n",
        "example_measures = example_measures.reshape(1,-1)\n",
        "\n",
        "prediction=clf.predict(example_measures)\n",
        "print(prediction)\n",
        "\n"
      ],
      "execution_count": null,
      "outputs": [
        {
          "output_type": "stream",
          "text": [
            "0.9428571428571428\n",
            "[2]\n"
          ],
          "name": "stdout"
        }
      ]
    },
    {
      "cell_type": "markdown",
      "metadata": {
        "id": "jVpFU79gunFq",
        "colab_type": "text"
      },
      "source": [
        "## 15 Euclidean Distance"
      ]
    },
    {
      "cell_type": "code",
      "metadata": {
        "id": "KErldKULwYQB",
        "colab_type": "code",
        "colab": {
          "base_uri": "https://localhost:8080/",
          "height": 34
        },
        "outputId": "82f7685e-a128-4a15-b34f-9ac630ba8d28"
      },
      "source": [
        "from math import sqrt\n",
        "\n",
        "plot1=[1,3]\n",
        "plot2=[2,5]\n",
        "\n",
        "euclidean_distance= sqrt( (plot1[0]-plot2[0])**2 +(plot1[1]-plot2[1])**2 )\n",
        "print(euclidean_distance)"
      ],
      "execution_count": null,
      "outputs": [
        {
          "output_type": "stream",
          "text": [
            "2.23606797749979\n"
          ],
          "name": "stdout"
        }
      ]
    },
    {
      "cell_type": "markdown",
      "metadata": {
        "id": "nbYnIhZEyrEh",
        "colab_type": "text"
      },
      "source": [
        "##16 Creating Our K Nearest Neighbors Algorithm"
      ]
    },
    {
      "cell_type": "code",
      "metadata": {
        "id": "UPV5DveGyuhX",
        "colab_type": "code",
        "colab": {
          "base_uri": "https://localhost:8080/",
          "height": 282
        },
        "outputId": "4234413c-81e9-456f-bcf4-03ff55eeeeb9"
      },
      "source": [
        "import numpy as np\n",
        "from math import sqrt\n",
        "import matplotlib.pyplot as plt\n",
        "import warnings\n",
        "from matplotlib import style\n",
        "from collections import Counter\n",
        "style.use('fivethirtyeight')\n",
        "\n",
        "dataset ={'k':[[1,2],[2,3],[3,1]], 'r':[[6,5],[7,7],[8,6]]}\n",
        "new_features=[5,7]\n",
        "\n",
        "[[plt.scatter(ii[0],ii[1], s=100, color=i) for ii in dataset [i]] for i in dataset]\n",
        "plt.scatter(new_features[0],new_features[1], s=100)  #s means size\n",
        "plt.show()\n",
        "\n",
        "\n",
        "def k_nearest_neighbors(data, predict, k=3):\n",
        "  if len(data) >= k:\n",
        "    warnings.warn('K is not equal to value less that total voting groups')\n",
        "\n",
        "    knnalgos\n",
        "    return vote_result"
      ],
      "execution_count": null,
      "outputs": [
        {
          "output_type": "display_data",
          "data": {
            "image/png": "[encoded data removed]",
            "text/plain": [
              "<Figure size 432x288 with 1 Axes>"
            ]
          },
          "metadata": {
            "tags": []
          }
        }
      ]
    },
    {
      "cell_type": "markdown",
      "metadata": {
        "id": "p6M6P6K-3gRY",
        "colab_type": "text"
      },
      "source": [
        "##17 Writing our own K Nearest Neighbors in Code"
      ]
    },
    {
      "cell_type": "code",
      "metadata": {
        "id": "csSO12Wq3iDk",
        "colab_type": "code",
        "colab": {
          "base_uri": "https://localhost:8080/",
          "height": 316
        },
        "outputId": "39e8ccd3-e329-4845-f00d-70fda26d2be2"
      },
      "source": [
        "def k_nearest_neighbors(data, predict, k=3):\n",
        "  if len(data) >= k:\n",
        "    warnings.warn('K is not equal to value less that total voting groups')\n",
        "  distances= []\n",
        "  for group in data:\n",
        "    for features in data[group]:\n",
        "      euclidean_distance= np.linalg.norm(np.array(features)-np.array(predict))\n",
        "      distances.append([euclidean_distance, group])\n",
        "  votes = [i[1] for i in sorted(distances)[:k]]\n",
        "  print(Counter(votes).most_common(1))\n",
        "  vote_result= Counter(votes).most_common(1)[0][0]\n",
        "  \n",
        "  return vote_result\n",
        "\n",
        "result=k_nearest_neighbors(dataset, new_features, k=3)\n",
        "print(result)\n",
        "\n",
        "[[plt.scatter(ii[0],ii[1], s=100, color=i) for ii in dataset [i]] for i in dataset]\n",
        "plt.scatter(new_features[0],new_features[1], s=100, color=result)  #now it should color match with its neighbors \n",
        "plt.show()"
      ],
      "execution_count": null,
      "outputs": [
        {
          "output_type": "stream",
          "text": [
            "[('r', 3)]\n",
            "r\n"
          ],
          "name": "stdout"
        },
        {
          "output_type": "display_data",
          "data": {
            "image/png": "[encoded data removed]",
            "text/plain": [
              "<Figure size 432x288 with 1 Axes>"
            ]
          },
          "metadata": {
            "tags": []
          }
        }
      ]
    },
    {
      "cell_type": "markdown",
      "metadata": {
        "id": "4deo9jIAEX-y",
        "colab_type": "text"
      },
      "source": [
        "## 18 Applying our K Nearest Neighbors Algorithm"
      ]
    },
    {
      "cell_type": "code",
      "metadata": {
        "id": "Yly9zpWLEgpg",
        "colab_type": "code",
        "colab": {
          "base_uri": "https://localhost:8080/",
          "height": 34
        },
        "outputId": "f0eab167-5f6c-4dc4-a576-7f9e089b6a78"
      },
      "source": [
        "import numpy as np\n",
        "from math import sqrt\n",
        "import warnings\n",
        "from collections import Counter\n",
        "import pandas as pd\n",
        "import random\n",
        "\n",
        "def k_nearest_neighbors(data, predict, k=3):\n",
        "  if len(data) >= k:\n",
        "    warnings.warn('K is not equal to value less that total voting groups')\n",
        "  distances= []\n",
        "  for group in data:\n",
        "    for features in data[group]:\n",
        "      euclidean_distance= np.linalg.norm(np.array(features)-np.array(predict))\n",
        "      distances.append([euclidean_distance, group])\n",
        "  votes = [i[1] for i in sorted(distances)[:k]]\n",
        "  #print(Counter(votes).most_common(1))\n",
        "  vote_result= Counter(votes).most_common(1)[0][0]\n",
        "  \n",
        "  return vote_result\n",
        "\n",
        "\n",
        "df = pd.read_csv('breast-cancer-wisconsin.data')\n",
        "\n",
        "df.columns = ['id','clump_thickness','unif_cell_size','unif_cell_shape','marg_adhesion','single_epith_cell_size',\n",
        "              'bare_nuclei','bland_chrom','norm_nucleoli','mitoses','class']\n",
        "\n",
        "df.replace('?', -99999, inplace=True)\n",
        "df.drop(['id'],1,inplace=True)\n",
        "full_data = df.astype(float).values.tolist()\n",
        "\n",
        "random.shuffle(full_data)\n",
        "#print(full_data[:5])\n",
        "\n",
        "test_size= 0.2\n",
        "train_set= {2:[], 4:[]} \n",
        "test_set= {2:[], 4:[]} \n",
        "train_data= full_data[:-int(test_size*len(full_data))]\n",
        "test_data= full_data[-int(test_size*len(full_data)):]\n",
        "\n",
        "for i in train_data:\n",
        "  train_set[i[-1]].append(i[:1])\n",
        "\n",
        "for i in test_data:\n",
        "  test_set[i[-1]].append(i[:1])\n",
        "\n",
        "correct=0\n",
        "total=0\n",
        "\n",
        "for group in test_set:\n",
        "  for data in test_set[group]:\n",
        "    vote= k_nearest_neighbors(train_set, data, k=25)\n",
        "    if group == vote:\n",
        "      correct += 1 \n",
        "    total +=1\n",
        "\n",
        "print('Accuracy:', correct/total)\n"
      ],
      "execution_count": null,
      "outputs": [
        {
          "output_type": "stream",
          "text": [
            "Accuracy: 0.9064748201438849\n"
          ],
          "name": "stdout"
        }
      ]
    },
    {
      "cell_type": "markdown",
      "metadata": {
        "id": "32oBrSe02XVQ",
        "colab_type": "text"
      },
      "source": [
        "## 19 Final thoughts on K Nearest Neighbors "
      ]
    },
    {
      "cell_type": "code",
      "metadata": {
        "id": "MzpJdeCy2ndc",
        "colab_type": "code",
        "colab": {
          "base_uri": "https://localhost:8080/",
          "height": 680
        },
        "outputId": "0f500ade-b3f8-41a0-e341-ebedd30754a8"
      },
      "source": [
        "def k_nearest_neighbors(data, predict, k=3):\n",
        "  if len(data) >= k:\n",
        "    warnings.warn('K is not equal to value less that total voting groups')\n",
        "  distances= []\n",
        "  for group in data:\n",
        "    for features in data[group]:\n",
        "      euclidean_distance= np.linalg.norm(np.array(features)-np.array(predict))\n",
        "      distances.append([euclidean_distance, group])\n",
        "  votes = [i[1] for i in sorted(distances)[:k]]\n",
        "  vote_result= Counter(votes).most_common(1)[0][0]\n",
        "  confidence= Counter(votes).most_common(1)[0][0] / k\n",
        "  #print(vote_result, confidence)\n",
        "  return vote_result, confidence\n",
        "\n",
        "\n",
        "df = pd.read_csv('breast-cancer-wisconsin.data')\n",
        "df.columns = ['id','clump_thickness','unif_cell_size','unif_cell_shape','marg_adhesion','single_epith_cell_size',\n",
        "              'bare_nuclei','bland_chrom','norm_nucleoli','mitoses','class']\n",
        "df.replace('?', -99999, inplace=True)\n",
        "df.drop(['id'],1,inplace=True)\n",
        "full_data = df.astype(float).values.tolist()\n",
        "\n",
        "random.shuffle(full_data)\n",
        "\n",
        "test_size= 0.4\n",
        "train_set= {2:[], 4:[]} \n",
        "test_set= {2:[], 4:[]} \n",
        "train_data= full_data[:-int(test_size*len(full_data))]\n",
        "test_data= full_data[-int(test_size*len(full_data)):]\n",
        "\n",
        "for i in train_data:\n",
        "  train_set[i[-1]].append(i[:1])\n",
        "\n",
        "for i in test_data:\n",
        "  test_set[i[-1]].append(i[:1])\n",
        "\n",
        "correct=0\n",
        "total=0\n",
        "\n",
        "for group in test_set:\n",
        "  for data in test_set[group]:\n",
        "    vote,confidence= k_nearest_neighbors(train_set, data, k=5)\n",
        "    if group == vote:\n",
        "      correct += 1 \n",
        "    else: \n",
        "      print(confidence)\n",
        "    total +=1\n",
        "print('Accuracy:', correct/total)\n"
      ],
      "execution_count": null,
      "outputs": [
        {
          "output_type": "stream",
          "text": [
            "0.8\n",
            "0.8\n",
            "0.8\n",
            "0.4\n",
            "0.4\n",
            "0.4\n",
            "0.4\n",
            "0.4\n",
            "0.4\n",
            "0.4\n",
            "0.4\n",
            "0.4\n",
            "0.4\n",
            "0.4\n",
            "0.4\n",
            "0.4\n",
            "0.4\n",
            "0.4\n",
            "0.4\n",
            "0.4\n",
            "0.4\n",
            "0.4\n",
            "0.4\n",
            "0.4\n",
            "0.4\n",
            "0.4\n",
            "0.4\n",
            "0.4\n",
            "0.4\n",
            "0.4\n",
            "0.4\n",
            "0.4\n",
            "0.4\n",
            "0.4\n",
            "0.4\n",
            "0.4\n",
            "0.4\n",
            "0.4\n",
            "Accuracy: 0.8637992831541219\n"
          ],
          "name": "stdout"
        }
      ]
    },
    {
      "cell_type": "code",
      "metadata": {
        "id": "5opzRdR77p-4",
        "colab_type": "code",
        "colab": {
          "base_uri": "https://localhost:8080/",
          "height": 34
        },
        "outputId": "5f956409-f2ac-4ee2-9846-5dcc19b3e2ac"
      },
      "source": [
        "accuracies = []\n",
        "\n",
        "for i in range(25):\n",
        "\n",
        "  df = pd.read_csv('breast-cancer-wisconsin.data')\n",
        "  df.columns = ['id','clump_thickness','unif_cell_size','unif_cell_shape','marg_adhesion','single_epith_cell_size',\n",
        "              'bare_nuclei','bland_chrom','norm_nucleoli','mitoses','class']\n",
        "  df.replace('?', -99999, inplace=True)\n",
        "  df.drop(['id'],1,inplace=True)\n",
        "  full_data = df.astype(float).values.tolist()\n",
        "\n",
        "  random.shuffle(full_data)\n",
        "\n",
        "  test_size= 0.4\n",
        "  train_set= {2:[], 4:[]} \n",
        "  test_set= {2:[], 4:[]} \n",
        "  train_data= full_data[:-int(test_size*len(full_data))]\n",
        "  test_data= full_data[-int(test_size*len(full_data)):]\n",
        "\n",
        "  for i in train_data:\n",
        "    train_set[i[-1]].append(i[:1])\n",
        "\n",
        "  for i in test_data:\n",
        "    test_set[i[-1]].append(i[:1])\n",
        "\n",
        "  correct=0\n",
        "  total=0\n",
        "\n",
        "  for group in test_set:\n",
        "    for data in test_set[group]:\n",
        "      vote,confidence= k_nearest_neighbors(train_set, data, k=5)\n",
        "      if group == vote:\n",
        "        correct += 1 \n",
        "      total +=1\n",
        "  #print('Accuracy:', correct/total)\n",
        "  accuracies.append(correct/total)\n",
        "\n",
        "print(sum(accuracies)/len(accuracies))"
      ],
      "execution_count": null,
      "outputs": [
        {
          "output_type": "stream",
          "text": [
            "0.8193548387096774\n"
          ],
          "name": "stdout"
        }
      ]
    },
    {
      "cell_type": "markdown",
      "metadata": {
        "id": "jFf36Ed7zeW9",
        "colab_type": "text"
      },
      "source": [
        "# SVM 20-33"
      ]
    },
    {
      "cell_type": "markdown",
      "metadata": {
        "id": "097TaQ-eTnKb",
        "colab_type": "text"
      },
      "source": [
        "##20 Support Vector Machine Intro and Application (SVM)"
      ]
    },
    {
      "cell_type": "markdown",
      "metadata": {
        "id": "Jei0meUyVEvM",
        "colab_type": "text"
      },
      "source": [
        "\n",
        "*   finding the best seperating hyperplane to classify new data points\n",
        "*   Binary classifier(the catagories can't be mixed together)\n",
        "\n"
      ]
    },
    {
      "cell_type": "code",
      "metadata": {
        "id": "wsAKcJiuT2GM",
        "colab_type": "code",
        "colab": {
          "base_uri": "https://localhost:8080/",
          "height": 51
        },
        "outputId": "3bc3e091-c37a-4a39-9db4-396d897ee1b1"
      },
      "source": [
        "import numpy as np\n",
        "from sklearn import preprocessing, model_selection, neighbors, svm\n",
        "import pandas as pd\n",
        "\n",
        "df = pd.read_csv('breast-cancer-wisconsin.data')\n",
        "df.columns = ['id','clump_thickness','unif_cell_size','unif_cell_shape','marg_adhesion','single_epith_cell_size',\n",
        "              'bare_nuclei','bland_chrom','norm_nucleoli','mitoses','class']\n",
        "df.replace('?',-99999, inplace=True)\n",
        "df.drop(['id'], 1, inplace=True)\n",
        "\n",
        "X = np.array(df.drop(['class'], 1))\n",
        "y = np.array(df['class'])\n",
        "\n",
        "X_train, X_test, y_train, y_test = model_selection.train_test_split(X, y, test_size=0.2)\n",
        "\n",
        "clf = svm.SVC()\n",
        "clf = neighbors.KNeighborsClassifier()\n",
        "\n",
        "\n",
        "clf.fit(X_train, y_train)\n",
        "confidence = clf.score(X_test, y_test)\n",
        "print(confidence)\n",
        "\n",
        "example_measures = np.array([[4,2,1,1,1,2,3,2,1]])\n",
        "example_measures = example_measures.reshape(len(example_measures), -1)\n",
        "prediction = clf.predict(example_measures)\n",
        "print(prediction)\n"
      ],
      "execution_count": null,
      "outputs": [
        {
          "output_type": "stream",
          "text": [
            "0.9857142857142858\n",
            "[2]\n"
          ],
          "name": "stdout"
        }
      ]
    },
    {
      "cell_type": "markdown",
      "metadata": {
        "id": "VKTsGJLSyS4O",
        "colab_type": "text"
      },
      "source": [
        "## 21-22 Understanding Vectors/Support Vector Assertion (notes, no code)\n",
        "## 23-24 SVM Fundamentals and Optimization"
      ]
    },
    {
      "cell_type": "markdown",
      "metadata": {
        "id": "I-gdTHue0TLf",
        "colab_type": "text"
      },
      "source": [
        "\n",
        "A= [1,3]  B= [2,4]\n",
        "*   direction A = [x,y]\n",
        "*   magnitude- length ||A|| = sqrt(x^2 + y^2)\n",
        "*   dot product = A.B = 1x2 + 3x4 (scalar value)\n",
        "*   hyperplane = (w*x) + b   \n",
        "*   b = bias \n"
      ]
    },
    {
      "cell_type": "markdown",
      "metadata": {
        "id": "Ni4jOgYQ8c7Q",
        "colab_type": "text"
      },
      "source": [
        "optimization\n",
        "\n",
        "*   minimize ||w||\n",
        "*   maximize b \n",
        "*   to find the smallest magnitude(w) and largest b\n",
        "\n",
        "constraint \n",
        "\n",
        "*   yi(xi*w + b) >= 1\n",
        "*   w = vector\n",
        "*   in python : class(KnownFeatures.w+b) >= 1 \n",
        "\n",
        "convex problem (bowl shape)\n",
        "\n",
        "\n"
      ]
    },
    {
      "cell_type": "markdown",
      "metadata": {
        "id": "7D6ZqK1BCWNJ",
        "colab_type": "text"
      },
      "source": [
        "##25 Creating an SVM from scratch"
      ]
    },
    {
      "cell_type": "code",
      "metadata": {
        "id": "fOZf2XbLWWAy",
        "colab_type": "code",
        "colab": {}
      },
      "source": [
        "import matplotlib.pyplot as plt\n",
        "from matplotlib import style \n",
        "import numpy as np\n",
        "style.use('ggplot')\n",
        "\n",
        "class Support_Vector_Machine:\n",
        "    def __init__(self, visualization=True):\n",
        "        self.visualization = visualization\n",
        "        self.colors = {1:'r',-1:'b'}\n",
        "        if self.visualization:\n",
        "            self.fig = plt.figure()\n",
        "            self.ax = self.fig.add_subplot(1,1,1)\n",
        "    # aka train\n",
        "    def fit(self, data):\n",
        "        pass\n",
        "\n",
        "    def predict(self,features):\n",
        "        # sign( x.w+b )       dot product                 we dont have these yet, thats what def fit is for\n",
        "        classification = np.sign(np.dot(np.array(features),self.w)+self.b)\n",
        "\n",
        "        return classification\n",
        "\n",
        "data_dict = {-1:np.array([[1,7],\n",
        "                          [2,8],\n",
        "                          [3,8],]),\n",
        "             \n",
        "             1:np.array([[5,1],\n",
        "                         [6,-1],\n",
        "                         [7,3],])}\n"
      ],
      "execution_count": null,
      "outputs": []
    },
    {
      "cell_type": "markdown",
      "metadata": {
        "id": "ecqC1ztJVQyz",
        "colab_type": "text"
      },
      "source": [
        "##26 SVM Training"
      ]
    },
    {
      "cell_type": "code",
      "metadata": {
        "id": "mStxH9HpVPFP",
        "colab_type": "code",
        "colab": {}
      },
      "source": [
        "import matplotlib.pyplot as plt\n",
        "from matplotlib import style\n",
        "import numpy as np\n",
        "style.use('ggplot')\n",
        "\n",
        "class Support_Vector_Machine:\n",
        "    def __init__(self, visualization=True):\n",
        "        self.visualization = visualization\n",
        "        self.colors = {1:'r',-1:'b'}\n",
        "        if self.visualization:\n",
        "            self.fig = plt.figure()\n",
        "            self.ax = self.fig.add_subplot(1,1,1)\n",
        "    # train\n",
        "    def fit(self, data):\n",
        "        self.data = data\n",
        "        # { ||w||: [w,b] }\n",
        "        opt_dict = {}\n",
        "\n",
        "        transforms = [[1,1],\n",
        "                      [-1,1],\n",
        "                      [-1,-1],\n",
        "                      [1,-1]]\n",
        "\n",
        "        all_data = []\n",
        "        for yi in self.data:\n",
        "            for featureset in self.data[yi]:\n",
        "                for feature in featureset:\n",
        "                    all_data.append(feature)\n",
        "\n",
        "        self.max_feature_value = max(all_data)\n",
        "        self.min_feature_value = min(all_data)\n",
        "        all_data = None\n",
        "#       each time it takes a step in the \"bowl\"\n",
        "        step_sizes = [self.max_feature_value * 0.1,\n",
        "                      self.max_feature_value * 0.01,\n",
        "                      # point of expense:\n",
        "                      self.max_feature_value * 0.001,]\n",
        "        \n",
        "        # extremely expensive\n",
        "        b_range_multiple = 5\n",
        "        # \n",
        "        b_multiple = 5\n",
        "        latest_optimum = self.max_feature_value*10\n",
        "\n",
        "        for step in step_sizes:\n",
        "            w = np.array([latest_optimum,latest_optimum])\n",
        "            # we can do this because convex\n",
        "            optimized = False\n",
        "            while not optimized:\n",
        "                pass\n",
        "            \n",
        "    def predict(self,features):\n",
        "        # sign( x.w+b )\n",
        "        classification = np.sign(np.dot(np.array(features),self.w)+self.b)\n",
        "\n",
        "        return classification\n",
        "        \n",
        "\n",
        "\n",
        "data_dict = {-1:np.array([[1,7],\n",
        "                          [2,8],\n",
        "                          [3,8],]),\n",
        "             \n",
        "             1:np.array([[5,1],\n",
        "                         [6,-1],\n",
        "                         [7,3],])}"
      ],
      "execution_count": null,
      "outputs": []
    },
    {
      "cell_type": "markdown",
      "metadata": {
        "id": "15jkj0rwX2Tx",
        "colab_type": "text"
      },
      "source": [
        "##27 SVM Optimization\n",
        "\n",
        "           "
      ]
    },
    {
      "cell_type": "code",
      "metadata": {
        "id": "JXf6S25PYF-o",
        "colab_type": "code",
        "colab": {}
      },
      "source": [
        "import matplotlib.pyplot as plt\n",
        "from matplotlib import style\n",
        "import numpy as np\n",
        "style.use('ggplot')\n",
        "\n",
        "class Support_Vector_Machine:\n",
        "    def __init__(self, visualization=True):\n",
        "        self.visualization = visualization\n",
        "        self.colors = {1:'r',-1:'b'}\n",
        "        if self.visualization:\n",
        "            self.fig = plt.figure()\n",
        "            self.ax = self.fig.add_subplot(1,1,1)\n",
        "    # train\n",
        "    def fit(self, data):\n",
        "        self.data = data\n",
        "        # { ||w||: [w,b] }\n",
        "        opt_dict = {}\n",
        "\n",
        "        transforms = [[1,1],\n",
        "                      [-1,1],\n",
        "                      [-1,-1],\n",
        "                      [1,-1]]\n",
        "\n",
        "        all_data = []\n",
        "        for yi in self.data:\n",
        "            for featureset in self.data[yi]:\n",
        "                for feature in featureset:\n",
        "                    all_data.append(feature)\n",
        "\n",
        "        self.max_feature_value = max(all_data)\n",
        "        self.min_feature_value = min(all_data)\n",
        "        all_data = None\n",
        "\n",
        "        # support vectors yi(xi.w+b) = 1\n",
        "        \n",
        "\n",
        "        step_sizes = [self.max_feature_value * 0.1,\n",
        "                      self.max_feature_value * 0.01,\n",
        "                      # point of expense:\n",
        "                      self.max_feature_value * 0.001,]\n",
        "\n",
        "        \n",
        "        \n",
        "        # extremely expensive\n",
        "        b_range_multiple = 5\n",
        "        # we dont need to take as small of steps\n",
        "        # with b as we do w\n",
        "        b_multiple = 5\n",
        "        latest_optimum = self.max_feature_value*10\n",
        "\n",
        "        for step in step_sizes:\n",
        "            w = np.array([latest_optimum,latest_optimum])\n",
        "            # we can do this because convex\n",
        "            optimized = False\n",
        "            while not optimized:\n",
        "                for b in np.arange(-1*(self.max_feature_value*b_range_multiple),\n",
        "                                   self.max_feature_value*b_range_multiple,\n",
        "                                   step*b_multiple):\n",
        "                    for transformation in transforms:\n",
        "                        w_t = w*transformation\n",
        "                        found_option = True\n",
        "                        # weakest link in the SVM fundamentally\n",
        "                        # SMO attempts to fix this a bit\n",
        "                        # yi(xi.w+b) >= 1\n",
        "                        # \n",
        "                        # #### add a break here later..\n",
        "                        for i in self.data:\n",
        "                            for xi in self.data[i]:\n",
        "                                yi=i\n",
        "                                if not yi*(np.dot(w_t,xi)+b) >= 1:\n",
        "                                    found_option = False\n",
        "                                    \n",
        "                        if found_option:\n",
        "                            opt_dict[np.linalg.norm(w_t)] = [w_t,b]\n",
        "\n",
        "                if w[0] < 0:\n",
        "                    optimized = True\n",
        "                    print('Optimized a step.')\n",
        "                else:\n",
        "                    w = w - step\n",
        "\n",
        "            norms = sorted([n for n in opt_dict])   #sorted list of magnitudes\n",
        "            #||w|| : [w,b]\n",
        "            opt_choice = opt_dict[norms[0]]\n",
        "            self.w = opt_choice[0]\n",
        "            self.b = opt_choice[1]\n",
        "            latest_optimum = opt_choice[0][0]+step*2\n",
        "            \n",
        "\n",
        "    def predict(self,features):\n",
        "        # sign( x.w+b )\n",
        "        classification = np.sign(np.dot(np.array(features),self.w)+self.b)\n",
        "        return classification\n",
        "        \n",
        "        \n",
        "data_dict = {-1:np.array([[1,7],\n",
        "                          [2,8],\n",
        "                          [3,8],]),\n",
        "             \n",
        "             1:np.array([[5,1],\n",
        "                         [6,-1],\n",
        "                         [7,3],])}"
      ],
      "execution_count": null,
      "outputs": []
    },
    {
      "cell_type": "markdown",
      "metadata": {
        "id": "mXCzP7m0aaZ6",
        "colab_type": "text"
      },
      "source": [
        "##28 Completing SVM from Scratch"
      ]
    },
    {
      "cell_type": "code",
      "metadata": {
        "id": "MVp0m6Gfabl7",
        "colab_type": "code",
        "colab": {
          "base_uri": "https://localhost:8080/",
          "height": 418
        },
        "outputId": "3387490f-403a-4d72-83cf-9bbaeeaddca4"
      },
      "source": [
        "import matplotlib.pyplot as plt\n",
        "from matplotlib import style\n",
        "import numpy as np\n",
        "style.use('ggplot')\n",
        "\n",
        "class Support_Vector_Machine:\n",
        "    def __init__(self, visualization=True):\n",
        "        self.visualization = visualization\n",
        "        self.colors = {1:'r',-1:'b'}\n",
        "        if self.visualization:\n",
        "            self.fig = plt.figure()\n",
        "            self.ax = self.fig.add_subplot(1,1,1)\n",
        "    # train\n",
        "    def fit(self, data):\n",
        "        self.data = data\n",
        "        # { ||w||: [w,b] }\n",
        "        opt_dict = {}\n",
        "\n",
        "        transforms = [[1,1],\n",
        "                      [-1,1],\n",
        "                      [-1,-1],\n",
        "                      [1,-1]]\n",
        "\n",
        "        all_data = []\n",
        "        for yi in self.data:\n",
        "            for featureset in self.data[yi]:\n",
        "                for feature in featureset:\n",
        "                    all_data.append(feature)\n",
        "\n",
        "        self.max_feature_value = max(all_data)\n",
        "        self.min_feature_value = min(all_data)\n",
        "        all_data = None\n",
        "\n",
        "        # support vectors yi(xi.w+b) = 1\n",
        "        \n",
        "\n",
        "        step_sizes = [self.max_feature_value * 0.1,\n",
        "                      self.max_feature_value * 0.01,\n",
        "                      # point of expense:\n",
        "                      self.max_feature_value * 0.001,\n",
        "                      ]\n",
        "\n",
        "        \n",
        "        \n",
        "        # extremely expensive\n",
        "        b_range_multiple = 2\n",
        "        # we dont need to take as small of steps\n",
        "        # with b as we do w\n",
        "        b_multiple = 5\n",
        "        latest_optimum = self.max_feature_value*10\n",
        "        \n",
        "        for step in step_sizes:\n",
        "            w = np.array([latest_optimum,latest_optimum])\n",
        "            # we can do this because convex\n",
        "            optimized = False\n",
        "            while not optimized:\n",
        "                for b in np.arange(-1*(self.max_feature_value*b_range_multiple),\n",
        "                                   self.max_feature_value*b_range_multiple,\n",
        "                                   step*b_multiple):\n",
        "                    for transformation in transforms:\n",
        "                        w_t = w*transformation\n",
        "                        found_option = True\n",
        "                        # weakest link in the SVM fundamentally\n",
        "                        # SMO attempts to fix this a bit\n",
        "                        # yi(xi.w+b) >= 1\n",
        "                        # \n",
        "                        # #### add a break here later..\n",
        "                        for i in self.data:\n",
        "                            for xi in self.data[i]:\n",
        "                                yi=i\n",
        "                                if not yi*(np.dot(w_t,xi)+b) >= 1:\n",
        "                                    found_option = False\n",
        "                                    #print(xi,':',yi*(np.dot(w_t,xi)+b))\n",
        "                                    \n",
        "                        if found_option:\n",
        "                            opt_dict[np.linalg.norm(w_t)] = [w_t,b]\n",
        "\n",
        "                if w[0] < 0:\n",
        "                    optimized = True\n",
        "                    print('Optimized a step.')\n",
        "                else:\n",
        "                    w = w - step\n",
        "\n",
        "            norms = sorted([n for n in opt_dict])\n",
        "            #||w|| : [w,b]\n",
        "            opt_choice = opt_dict[norms[0]]\n",
        "            self.w = opt_choice[0]\n",
        "            self.b = opt_choice[1]\n",
        "            latest_optimum = opt_choice[0][0]+step*2\n",
        "            \n",
        "        for i in self.data:\n",
        "            for xi in self.data[i]:\n",
        "                yi=i\n",
        "                print(xi,':',yi*(np.dot(self.w,xi)+self.b))            \n",
        "\n",
        "    def predict(self,features):\n",
        "        # sign( x.w+b )\n",
        "        classification = np.sign(np.dot(np.array(features),self.w)+self.b)\n",
        "        if classification !=0 and self.visualization:\n",
        "            self.ax.scatter(features[0], features[1], s=200, marker='*', c=self.colors[classification])\n",
        "        return classification\n",
        "\n",
        "    def visualize(self):\n",
        "        [[self.ax.scatter(x[0],x[1],s=100,color=self.colors[i]) for x in data_dict[i]] for i in data_dict]\n",
        "\n",
        "        # hyperplane = x.w+b\n",
        "        # v = x.w+b\n",
        "        # psv = 1\n",
        "        # nsv = -1\n",
        "        # dec = 0\n",
        "        def hyperplane(x,w,b,v):\n",
        "            return (-w[0]*x-b+v) / w[1]\n",
        "\n",
        "        datarange = (self.min_feature_value*0.9,self.max_feature_value*1.1)\n",
        "        hyp_x_min = datarange[0]\n",
        "        hyp_x_max = datarange[1]\n",
        "\n",
        "        # (w.x+b) = 1\n",
        "        # positive support vector hyperplane\n",
        "        psv1 = hyperplane(hyp_x_min, self.w, self.b, 1)\n",
        "        psv2 = hyperplane(hyp_x_max, self.w, self.b, 1)\n",
        "        self.ax.plot([hyp_x_min,hyp_x_max],[psv1,psv2], 'k')  #k is for black color\n",
        "\n",
        "        # (w.x+b) = -1\n",
        "        # negative support vector hyperplane\n",
        "        nsv1 = hyperplane(hyp_x_min, self.w, self.b, -1)\n",
        "        nsv2 = hyperplane(hyp_x_max, self.w, self.b, -1)\n",
        "        self.ax.plot([hyp_x_min,hyp_x_max],[nsv1,nsv2], 'k')\n",
        "\n",
        "        # (w.x+b) = 0\n",
        "        # positive support vector hyperplane\n",
        "        db1 = hyperplane(hyp_x_min, self.w, self.b, 0)\n",
        "        db2 = hyperplane(hyp_x_max, self.w, self.b, 0)\n",
        "        self.ax.plot([hyp_x_min,hyp_x_max],[db1,db2], 'y--') #yellow dashed line\n",
        "\n",
        "        plt.show()\n",
        "        \n",
        "data_dict = {-1:np.array([[1,7],\n",
        "                          [2,8],\n",
        "                          [3,8],]),\n",
        "             \n",
        "             1:np.array([[5,1],\n",
        "                         [6,-1],\n",
        "                         [7,3],])}\n",
        "\n",
        "svm = Support_Vector_Machine()\n",
        "svm.fit(data=data_dict)\n",
        "\n",
        "predict_us = [[0,10],\n",
        "              [1,3],\n",
        "              [3,4],\n",
        "              [3,5],\n",
        "              [5,5],\n",
        "              [5,6],\n",
        "              [6,-5],\n",
        "              [5,8]]\n",
        "\n",
        "for p in predict_us:\n",
        "    svm.predict(p)\n",
        "\n",
        "svm.visualize()"
      ],
      "execution_count": null,
      "outputs": [
        {
          "output_type": "stream",
          "text": [
            "Optimized a step.\n",
            "Optimized a step.\n",
            "Optimized a step.\n",
            "[1 7] : 1.271999999999435\n",
            "[2 8] : 1.271999999999435\n",
            "[3 8] : 1.0399999999995864\n",
            "[5 1] : 1.0479999999990506\n",
            "[ 6 -1] : 1.7439999999985962\n",
            "[7 3] : 1.0479999999990506\n"
          ],
          "name": "stdout"
        },
        {
          "output_type": "display_data",
          "data": {
            "image/png": "[encoded data removed]",
            "text/plain": [
              "<Figure size 432x288 with 1 Axes>"
            ]
          },
          "metadata": {
            "tags": []
          }
        }
      ]
    },
    {
      "cell_type": "markdown",
      "metadata": {
        "id": "5kyLg6uieP23",
        "colab_type": "text"
      },
      "source": [
        "##29-30 Kernels Introduction/Why Kernels (Just concepts, no code)"
      ]
    },
    {
      "cell_type": "markdown",
      "metadata": {
        "id": "Ts97qmkugpJj",
        "colab_type": "text"
      },
      "source": [
        "*   (allows you to have more dimensions)\n",
        "*   uses inner product(aka dot product)"
      ]
    },
    {
      "cell_type": "markdown",
      "metadata": {
        "id": "vQIODmvlgvuR",
        "colab_type": "text"
      },
      "source": [
        "##31-32 Soft Margin SVM and Kernels with CVXOPT"
      ]
    },
    {
      "cell_type": "code",
      "metadata": {
        "id": "3FzPklAveXqq",
        "colab_type": "code",
        "colab": {
          "base_uri": "https://localhost:8080/",
          "height": 626
        },
        "outputId": "68e9792f-99f3-4d76-d918-593fa64b5a57"
      },
      "source": [
        "import numpy as np\n",
        "from numpy import linalg\n",
        "import cvxopt\n",
        "import cvxopt.solvers\n",
        "             \n",
        "def linear_kernel(x1, x2):\n",
        "    return np.dot(x1, x2)\n",
        "\n",
        "def polynomial_kernel(x, y, p=3):\n",
        "    return (1 + np.dot(x, y)) ** p\n",
        "\n",
        "def gaussian_kernel(x, y, sigma=5.0):\n",
        "    return np.exp(-linalg.norm(x-y)**2 / (2 * (sigma ** 2)))\n",
        "\n",
        "class SVM(object):\n",
        "\n",
        "    def __init__(self, kernel=linear_kernel, C=None):\n",
        "        self.kernel = kernel\n",
        "        self.C = C\n",
        "        if self.C is not None: self.C = float(self.C)\n",
        "\n",
        "    def fit(self, X, y):\n",
        "        n_samples, n_features = X.shape\n",
        "\n",
        "        # Gram matrix\n",
        "        K = np.zeros((n_samples, n_samples))\n",
        "        for i in range(n_samples):\n",
        "            for j in range(n_samples):\n",
        "                K[i,j] = self.kernel(X[i], X[j])\n",
        "\n",
        "        P = cvxopt.matrix(np.outer(y,y) * K)\n",
        "        q = cvxopt.matrix(np.ones(n_samples) * -1)\n",
        "        A = cvxopt.matrix(y, (1,n_samples))\n",
        "        b = cvxopt.matrix(0.0)\n",
        "\n",
        "        if self.C is None:\n",
        "            G = cvxopt.matrix(np.diag(np.ones(n_samples) * -1))\n",
        "            h = cvxopt.matrix(np.zeros(n_samples))\n",
        "        else:\n",
        "            tmp1 = np.diag(np.ones(n_samples) * -1)\n",
        "            tmp2 = np.identity(n_samples)\n",
        "            G = cvxopt.matrix(np.vstack((tmp1, tmp2)))\n",
        "            tmp1 = np.zeros(n_samples)\n",
        "            tmp2 = np.ones(n_samples) * self.C\n",
        "            h = cvxopt.matrix(np.hstack((tmp1, tmp2)))\n",
        "\n",
        "        # solve QP problem\n",
        "        solution = cvxopt.solvers.qp(P, q, G, h, A, b)\n",
        "\n",
        "        # Lagrange multipliers\n",
        "        a = np.ravel(solution['x'])\n",
        "\n",
        "        # Support vectors have non zero lagrange multipliers\n",
        "        sv = a > 1e-5\n",
        "        ind = np.arange(len(a))[sv]\n",
        "        self.a = a[sv]\n",
        "        self.sv = X[sv]\n",
        "        self.sv_y = y[sv]\n",
        "        print(\"%d support vectors out of %d points\" % (len(self.a), n_samples))\n",
        "\n",
        "        # Intercept\n",
        "        self.b = 0\n",
        "        for n in range(len(self.a)):\n",
        "            self.b += self.sv_y[n]\n",
        "            self.b -= np.sum(self.a * self.sv_y * K[ind[n],sv])\n",
        "        self.b /= len(self.a)\n",
        "\n",
        "        # Weight vector\n",
        "        if self.kernel == linear_kernel:\n",
        "            self.w = np.zeros(n_features)\n",
        "            for n in range(len(self.a)):\n",
        "                self.w += self.a[n] * self.sv_y[n] * self.sv[n]\n",
        "        else:\n",
        "            self.w = None\n",
        "\n",
        "    def project(self, X):\n",
        "        if self.w is not None:\n",
        "            return np.dot(X, self.w) + self.b\n",
        "        else:\n",
        "            y_predict = np.zeros(len(X))\n",
        "            for i in range(len(X)):\n",
        "                s = 0\n",
        "                for a, sv_y, sv in zip(self.a, self.sv_y, self.sv):\n",
        "                    s += a * sv_y * self.kernel(X[i], sv)\n",
        "                y_predict[i] = s\n",
        "            return y_predict + self.b\n",
        "\n",
        "    def predict(self, X):\n",
        "        return np.sign(self.project(X))\n",
        "\n",
        "if __name__ == \"__main__\":\n",
        "    import pylab as pl\n",
        "\n",
        "    def gen_lin_separable_data():\n",
        "        # generate training data in the 2-d case\n",
        "        mean1 = np.array([0, 2])\n",
        "        mean2 = np.array([2, 0])\n",
        "        cov = np.array([[0.8, 0.6], [0.6, 0.8]])\n",
        "        X1 = np.random.multivariate_normal(mean1, cov, 100)\n",
        "        y1 = np.ones(len(X1))\n",
        "        X2 = np.random.multivariate_normal(mean2, cov, 100)\n",
        "        y2 = np.ones(len(X2)) * -1\n",
        "        return X1, y1, X2, y2\n",
        "\n",
        "    def gen_non_lin_separable_data():\n",
        "        mean1 = [-1, 2]\n",
        "        mean2 = [1, -1]\n",
        "        mean3 = [4, -4]\n",
        "        mean4 = [-4, 4]\n",
        "        cov = [[1.0,0.8], [0.8, 1.0]]\n",
        "        X1 = np.random.multivariate_normal(mean1, cov, 50)\n",
        "        X1 = np.vstack((X1, np.random.multivariate_normal(mean3, cov, 50)))\n",
        "        y1 = np.ones(len(X1))\n",
        "        X2 = np.random.multivariate_normal(mean2, cov, 50)\n",
        "        X2 = np.vstack((X2, np.random.multivariate_normal(mean4, cov, 50)))\n",
        "        y2 = np.ones(len(X2)) * -1\n",
        "        return X1, y1, X2, y2\n",
        "\n",
        "    def gen_lin_separable_overlap_data():\n",
        "        # generate training data in the 2-d case\n",
        "        mean1 = np.array([0, 2])\n",
        "        mean2 = np.array([2, 0])\n",
        "        cov = np.array([[1.5, 1.0], [1.0, 1.5]])\n",
        "        X1 = np.random.multivariate_normal(mean1, cov, 100)\n",
        "        y1 = np.ones(len(X1))\n",
        "        X2 = np.random.multivariate_normal(mean2, cov, 100)\n",
        "        y2 = np.ones(len(X2)) * -1\n",
        "        return X1, y1, X2, y2\n",
        "\n",
        "    def split_train(X1, y1, X2, y2):\n",
        "        X1_train = X1[:90]\n",
        "        y1_train = y1[:90]\n",
        "        X2_train = X2[:90]\n",
        "        y2_train = y2[:90]\n",
        "        X_train = np.vstack((X1_train, X2_train))\n",
        "        y_train = np.hstack((y1_train, y2_train))\n",
        "        return X_train, y_train\n",
        "\n",
        "    def split_test(X1, y1, X2, y2):\n",
        "        X1_test = X1[90:]\n",
        "        y1_test = y1[90:]\n",
        "        X2_test = X2[90:]\n",
        "        y2_test = y2[90:]\n",
        "        X_test = np.vstack((X1_test, X2_test))\n",
        "        y_test = np.hstack((y1_test, y2_test))\n",
        "        return X_test, y_test\n",
        "\n",
        "    def plot_margin(X1_train, X2_train, clf):\n",
        "        def f(x, w, b, c=0):\n",
        "            # given x, return y such that [x,y] in on the line\n",
        "            # w.x + b = c\n",
        "            return (-w[0] * x - b + c) / w[1]\n",
        "\n",
        "        pl.plot(X1_train[:,0], X1_train[:,1], \"ro\")\n",
        "        pl.plot(X2_train[:,0], X2_train[:,1], \"bo\")\n",
        "        pl.scatter(clf.sv[:,0], clf.sv[:,1], s=100, c=\"g\")\n",
        "\n",
        "        # w.x + b = 0\n",
        "        a0 = -4; a1 = f(a0, clf.w, clf.b)\n",
        "        b0 = 4; b1 = f(b0, clf.w, clf.b)\n",
        "        pl.plot([a0,b0], [a1,b1], \"k\")\n",
        "\n",
        "        # w.x + b = 1\n",
        "        a0 = -4; a1 = f(a0, clf.w, clf.b, 1)\n",
        "        b0 = 4; b1 = f(b0, clf.w, clf.b, 1)\n",
        "        pl.plot([a0,b0], [a1,b1], \"k--\")\n",
        "\n",
        "        # w.x + b = -1\n",
        "        a0 = -4; a1 = f(a0, clf.w, clf.b, -1)\n",
        "        b0 = 4; b1 = f(b0, clf.w, clf.b, -1)\n",
        "        pl.plot([a0,b0], [a1,b1], \"k--\")\n",
        "\n",
        "        pl.axis(\"tight\")\n",
        "        pl.show()\n",
        "\n",
        "    def plot_contour(X1_train, X2_train, clf):\n",
        "        pl.plot(X1_train[:,0], X1_train[:,1], \"ro\")\n",
        "        pl.plot(X2_train[:,0], X2_train[:,1], \"bo\")\n",
        "        pl.scatter(clf.sv[:,0], clf.sv[:,1], s=100, c=\"g\")\n",
        "\n",
        "        X1, X2 = np.meshgrid(np.linspace(-6,6,50), np.linspace(-6,6,50))\n",
        "        X = np.array([[x1, x2] for x1, x2 in zip(np.ravel(X1), np.ravel(X2))])\n",
        "        Z = clf.project(X).reshape(X1.shape)\n",
        "        pl.contour(X1, X2, Z, [0.0], colors='k', linewidths=1, origin='lower')\n",
        "        pl.contour(X1, X2, Z + 1, [0.0], colors='grey', linewidths=1, origin='lower')\n",
        "        pl.contour(X1, X2, Z - 1, [0.0], colors='grey', linewidths=1, origin='lower')\n",
        "\n",
        "        pl.axis(\"tight\")\n",
        "        pl.show()\n",
        "\n",
        "    def test_linear():\n",
        "        X1, y1, X2, y2 = gen_lin_separable_data()\n",
        "        X_train, y_train = split_train(X1, y1, X2, y2)\n",
        "        X_test, y_test = split_test(X1, y1, X2, y2)\n",
        "\n",
        "        clf = SVM()\n",
        "        clf.fit(X_train, y_train)\n",
        "\n",
        "        y_predict = clf.predict(X_test)\n",
        "        correct = np.sum(y_predict == y_test)\n",
        "        print(\"%d out of %d predictions correct\" % (correct, len(y_predict)))\n",
        "\n",
        "        plot_margin(X_train[y_train==1], X_train[y_train==-1], clf)\n",
        "\n",
        "    def test_non_linear():\n",
        "        X1, y1, X2, y2 = gen_non_lin_separable_data()\n",
        "        X_train, y_train = split_train(X1, y1, X2, y2)\n",
        "        X_test, y_test = split_test(X1, y1, X2, y2)\n",
        "\n",
        "        clf = SVM(polynomial_kernel)\n",
        "        clf.fit(X_train, y_train)\n",
        "\n",
        "        y_predict = clf.predict(X_test)\n",
        "        correct = np.sum(y_predict == y_test)\n",
        "        print(\"%d out of %d predictions correct\" % (correct, len(y_predict)))\n",
        "\n",
        "        plot_contour(X_train[y_train==1], X_train[y_train==-1], clf)\n",
        "\n",
        "    def test_soft():\n",
        "        X1, y1, X2, y2 = gen_lin_separable_overlap_data()\n",
        "        X_train, y_train = split_train(X1, y1, X2, y2)\n",
        "        X_test, y_test = split_test(X1, y1, X2, y2)\n",
        "\n",
        "        clf = SVM(C=1000.1)\n",
        "        clf.fit(X_train, y_train)\n",
        "\n",
        "        y_predict = clf.predict(X_test)\n",
        "        correct = np.sum(y_predict == y_test)\n",
        "        print(\"%d out of %d predictions correct\" % (correct, len(y_predict)))\n",
        "\n",
        "        plot_contour(X_train[y_train==1], X_train[y_train==-1], clf)\n",
        "\n",
        "        \n",
        "    #test_linear()\n",
        "    #test_non_linear()\n",
        "    test_soft()"
      ],
      "execution_count": null,
      "outputs": [
        {
          "output_type": "stream",
          "text": [
            "     pcost       dcost       gap    pres   dres\n",
            " 0:  1.2743e+05 -1.1212e+08  3e+08  7e-01  6e-12\n",
            " 1:  4.0982e+05 -2.9105e+07  5e+07  8e-02  1e-11\n",
            " 2:  4.5825e+05 -5.5097e+06  8e+06  1e-02  4e-12\n",
            " 3:  1.9412e+05 -1.4100e+06  2e+06  2e-03  2e-12\n",
            " 4:  1.6840e+04 -2.0167e+05  2e+05  1e-12  2e-12\n",
            " 5: -5.7195e+03 -3.2552e+04  3e+04  1e-12  2e-12\n",
            " 6: -6.9864e+03 -2.1491e+04  1e+04  1e-12  2e-12\n",
            " 7: -7.4814e+03 -1.4122e+04  7e+03  1e-12  2e-12\n",
            " 8: -8.0938e+03 -1.4619e+04  7e+03  4e-13  2e-12\n",
            " 9: -7.6967e+03 -1.3715e+04  6e+03  2e-12  2e-12\n",
            "10: -9.2144e+03 -1.2489e+04  3e+03  5e-14  3e-12\n",
            "11: -9.0195e+03 -1.2269e+04  3e+03  6e-13  3e-12\n",
            "12: -9.3033e+03 -1.1460e+04  2e+03  3e-12  2e-12\n",
            "13: -9.7094e+03 -1.0412e+04  7e+02  6e-13  2e-12\n",
            "14: -9.9325e+03 -9.9597e+03  3e+01  9e-13  3e-12\n",
            "15: -9.9439e+03 -9.9442e+03  4e-01  1e-12  3e-12\n",
            "16: -9.9440e+03 -9.9440e+03  4e-03  4e-13  3e-12\n",
            "Optimal solution found.\n",
            "19 support vectors out of 180 points\n",
            "20 out of 20 predictions correct\n"
          ],
          "name": "stdout"
        },
        {
          "output_type": "display_data",
          "data": {
            "image/png": "[encoded data removed]",
            "text/plain": [
              "<Figure size 432x288 with 1 Axes>"
            ]
          },
          "metadata": {
            "tags": []
          }
        }
      ]
    },
    {
      "cell_type": "markdown",
      "metadata": {
        "id": "CuSjj0W4rtyE",
        "colab_type": "text"
      },
      "source": [
        "##33 SVM Parameters (Just Review)"
      ]
    },
    {
      "cell_type": "markdown",
      "metadata": {
        "id": "BRnKjG9YuQsO",
        "colab_type": "text"
      },
      "source": [
        "#Clustering 34-42"
      ]
    },
    {
      "cell_type": "markdown",
      "metadata": {
        "id": "CdXBsQattEIm",
        "colab_type": "text"
      },
      "source": [
        "##34 Clustering Introduction"
      ]
    },
    {
      "cell_type": "markdown",
      "metadata": {
        "id": "WEhiha2LurKT",
        "colab_type": "text"
      },
      "source": [
        "2 types\n",
        "\n",
        "*   flat clustering - you tell the machine to find specific # of clusters \n",
        "*   hierarchical clustering lets the machine to determine the groupings\n",
        "\n",
        "K- Means Algorithm - flat (Meanshift is the hierarchical one)\n",
        "\n",
        "*   K = # of clusters\n",
        "*   Centroid - center of cluster\n",
        "*   Means part- find the mean of each cluster for get a new centroid \n",
        "*   Repeat until Centroid doens't move \n",
        "\n"
      ]
    },
    {
      "cell_type": "code",
      "metadata": {
        "id": "U6XBXlL4ueEu",
        "colab_type": "code",
        "colab": {
          "base_uri": "https://localhost:8080/",
          "height": 265
        },
        "outputId": "db2fd7e5-ce44-4f7e-81ad-56b014557d04"
      },
      "source": [
        "import matplotlib.pyplot as plt\n",
        "from matplotlib import style\n",
        "import numpy as np\n",
        "from sklearn.cluster import KMeans\n",
        "style.use('ggplot')\n",
        "\n",
        "\n",
        "X = np.array([[1, 2],\n",
        "              [1.5, 1.8],\n",
        "              [5, 8],\n",
        "              [8, 8],\n",
        "              [1, 0.6],\n",
        "              [9, 11]])\n",
        "\n",
        "\n",
        "#plt.scatter(X[:, 0],X[:, 1], s=100, linewidths = 5,color='b')\n",
        "#plt.show()\n",
        "\n",
        "clf = KMeans(n_clusters=2)  #default is 8\n",
        "clf.fit(X)\n",
        "\n",
        "centroids = clf.cluster_centers_\n",
        "labels = clf.labels_\n",
        "\n",
        "colors = [\"g.\",\"r.\",\"c.\",\"y.\"]\n",
        "for i in range(len(X)):\n",
        "    plt.plot(X[i][0], X[i][1], colors[labels[i]], markersize = 10)\n",
        "plt.scatter(centroids[:, 0],centroids[:, 1], marker = \"x\", s=150, linewidths = 5)\n",
        "plt.show()"
      ],
      "execution_count": null,
      "outputs": [
        {
          "output_type": "display_data",
          "data": {
            "image/png": "[encoded data removed]",
            "text/plain": [
              "<Figure size 432x288 with 1 Axes>"
            ]
          },
          "metadata": {
            "tags": []
          }
        }
      ]
    },
    {
      "cell_type": "markdown",
      "metadata": {
        "id": "oOrcWsdDzCXb",
        "colab_type": "text"
      },
      "source": [
        "##35 Handling Non-Numeric Data"
      ]
    },
    {
      "cell_type": "code",
      "metadata": {
        "id": "XRGareBGzSdw",
        "colab_type": "code",
        "colab": {
          "base_uri": "https://localhost:8080/",
          "height": 153
        },
        "outputId": "690951da-aaac-4a82-9a59-1ade8d03c508"
      },
      "source": [
        "import matplotlib.pyplot as plt\n",
        "from matplotlib import style\n",
        "import numpy as np\n",
        "from sklearn.cluster import KMeans\n",
        "style.use('ggplot')\n",
        "from sklearn import preprocessing, model_selection\n",
        "import pandas as pd\n",
        "\n",
        "df = pd.read_excel('titanic.xls')\n",
        "df.drop(['body', 'name'], 1, inplace=True)\n",
        "#df.convert_objects(convert_numeric=True)\n",
        "df.fillna(0, inplace=True)\n",
        "\n",
        "def handle_non_numerical_data(df):\n",
        "    columns = df.columns.values\n",
        "    for column in columns:\n",
        "        text_digit_vals = {}\n",
        "        def convert_to_int(val):\n",
        "            return text_digit_vals[val]\n",
        "\n",
        "        if df[column].dtype != np.int64 and df[column].dtype != np.float64:\n",
        "            column_contents = df[column].values.tolist()\n",
        "            unique_elements = set(column_contents)\n",
        "            x = 0\n",
        "            for unique in unique_elements:\n",
        "                if unique not in text_digit_vals:\n",
        "                    text_digit_vals[unique] = x\n",
        "                    x+=1\n",
        "\n",
        "            df[column] = list(map(convert_to_int, df[column]))\n",
        "\n",
        "    return df\n",
        "\n",
        "df = handle_non_numerical_data(df)\n",
        "print(df.head())"
      ],
      "execution_count": null,
      "outputs": [
        {
          "output_type": "stream",
          "text": [
            "   pclass  survived  sex      age  ...  cabin  embarked  boat  home.dest\n",
            "0       1         1    1  29.0000  ...     47         3     2         76\n",
            "1       1         1    0   0.9167  ...    132         3    28        118\n",
            "2       1         0    1   2.0000  ...    132         3     0        118\n",
            "3       1         0    0  30.0000  ...    132         3     0        118\n",
            "4       1         0    1  25.0000  ...    132         3     0        118\n",
            "\n",
            "[5 rows x 12 columns]\n"
          ],
          "name": "stdout"
        }
      ]
    },
    {
      "cell_type": "markdown",
      "metadata": {
        "id": "Wsdl4oA_2FR4",
        "colab_type": "text"
      },
      "source": [
        "##36 K Means with Titanic Dataset"
      ]
    },
    {
      "cell_type": "code",
      "metadata": {
        "id": "pwPLduXy2ha2",
        "colab_type": "code",
        "colab": {
          "base_uri": "https://localhost:8080/",
          "height": 34
        },
        "outputId": "769edc07-b53e-4da0-f382-cd8acd8fb6ff"
      },
      "source": [
        "df = handle_non_numerical_data(df)\n",
        "\n",
        "\n",
        "df.drop(['sex','boat'], 1, inplace=True)\n",
        "X = np.array(df.drop(['survived'], 1).astype(float))\n",
        " #preprocessing aims to put your data in a range from -1 to +1 (making more accurate when making groups)\n",
        "X = preprocessing.scale(X)   \n",
        "y = np.array(df['survived'])\n",
        "\n",
        "clf = KMeans(n_clusters=2)\n",
        "clf.fit(X)\n",
        "\n",
        "correct = 0\n",
        "for i in range(len(X)):\n",
        "    predict_me = np.array(X[i].astype(float))\n",
        "    predict_me = predict_me.reshape(-1, len(predict_me))\n",
        "    prediction = clf.predict(predict_me)\n",
        "    if prediction[0] == y[i]:\n",
        "        correct += 1\n",
        "\n",
        "print(correct/len(X))"
      ],
      "execution_count": null,
      "outputs": [
        {
          "output_type": "stream",
          "text": [
            "0.6860198624904508\n"
          ],
          "name": "stdout"
        }
      ]
    },
    {
      "cell_type": "markdown",
      "metadata": {
        "id": "v2xRpjj3kLX2",
        "colab_type": "text"
      },
      "source": [
        "##37-38 Custom K Means/Finish Scratch"
      ]
    },
    {
      "cell_type": "code",
      "metadata": {
        "id": "rdqX7pgrkYnA",
        "colab_type": "code",
        "colab": {
          "base_uri": "https://localhost:8080/",
          "height": 299
        },
        "outputId": "b3316248-7eb0-4c3d-adab-62513a1f1009"
      },
      "source": [
        "import matplotlib.pyplot as plt\n",
        "from matplotlib import style\n",
        "style.use('ggplot')\n",
        "import numpy as np\n",
        "\n",
        "X = np.array([[1, 2],\n",
        "              [1.5, 1.8],\n",
        "              [5, 8 ],\n",
        "              [8, 8],\n",
        "              [1, 0.6],\n",
        "              [9,11]])\n",
        "\n",
        "#plt.scatter(X[:,0], X[:,1], s=150)\n",
        "#plt.show()\n",
        "\n",
        "colors = 10*[\"m\",\"r\",\"c\",\"b\",\"k\"]\n",
        "\n",
        "\n",
        "class K_Means:   #tol=tolerance, tells if centroid not moving, max_iter=limit#of cyles\n",
        "    def __init__(self, k=2, tol=0.001, max_iter=300):\n",
        "        self.k = k\n",
        "        self.tol = tol\n",
        "        self.max_iter = max_iter\n",
        "\n",
        "    def fit(self,data):\n",
        "\n",
        "        self.centroids = {}\n",
        "\n",
        "        for i in range(self.k):\n",
        "            self.centroids[i] = data[i]\n",
        "\n",
        "        for i in range(self.max_iter):\n",
        "            self.classifications = {}\n",
        "\n",
        "            for i in range(self.k):\n",
        "                self.classifications[i] = []\n",
        "\n",
        "            for featureset in data:\n",
        "                distances = [np.linalg.norm(featureset-self.centroids[centroid]) for centroid in self.centroids]\n",
        "                classification = distances.index(min(distances))\n",
        "                self.classifications[classification].append(featureset)\n",
        "\n",
        "            prev_centroids = dict(self.centroids)\n",
        "\n",
        "            for classification in self.classifications:\n",
        "                self.centroids[classification] = np.average(self.classifications[classification],axis=0)\n",
        "#Video 38:\n",
        "            optimized = True\n",
        "\n",
        "            for c in self.centroids:\n",
        "                original_centroid = prev_centroids[c]\n",
        "                current_centroid = self.centroids[c]\n",
        "                if np.sum((current_centroid-original_centroid)/original_centroid*100.0) > self.tol:\n",
        "                    print(np.sum((current_centroid-original_centroid)/original_centroid*100.0))\n",
        "                    optimized = False\n",
        "\n",
        "            if optimized:\n",
        "                break\n",
        "\n",
        "    def predict(self,data):\n",
        "        distances = [np.linalg.norm(data-self.centroids[centroid]) for centroid in self.centroids]\n",
        "        classification = distances.index(min(distances))\n",
        "        return classification\n",
        "\n",
        "clf = K_Means()\n",
        "clf.fit(X)\n",
        "\n",
        "for centroid in clf.centroids:\n",
        "    plt.scatter(clf.centroids[centroid][0], clf.centroids[centroid][1],\n",
        "                marker=\"o\", color=\"k\", s=50, linewidths=5)\n",
        "\n",
        "for classification in clf.classifications:\n",
        "    color = colors[classification]\n",
        "    for featureset in clf.classifications[classification]:\n",
        "        plt.scatter(featureset[0], featureset[1], marker=\"x\", color=color, s=150, linewidths=5)\n",
        "        \n",
        "plt.show()"
      ],
      "execution_count": null,
      "outputs": [
        {
          "output_type": "stream",
          "text": [
            "453.3333333333334\n",
            "102.72108843537411\n"
          ],
          "name": "stdout"
        },
        {
          "output_type": "display_data",
          "data": {
            "image/png": "[encoded data removed]",
            "text/plain": [
              "<Figure size 432x288 with 1 Axes>"
            ]
          },
          "metadata": {
            "tags": []
          }
        }
      ]
    },
    {
      "cell_type": "code",
      "metadata": {
        "id": "ztpsukponrKZ",
        "colab_type": "code",
        "colab": {
          "base_uri": "https://localhost:8080/",
          "height": 299
        },
        "outputId": "3e8d60cd-396b-4771-f887-ef6178b90100"
      },
      "source": [
        "clf = K_Means()\n",
        "clf.fit(X)\n",
        "\n",
        "for centroid in clf.centroids:\n",
        "    plt.scatter(clf.centroids[centroid][0], clf.centroids[centroid][1],\n",
        "                marker=\"o\", color=\"k\", s=50, linewidths=5)\n",
        "\n",
        "for classification in clf.classifications:\n",
        "    color = colors[classification]\n",
        "    for featureset in clf.classifications[classification]:\n",
        "        plt.scatter(featureset[0], featureset[1], marker=\"x\", color=color, s=150, linewidths=5)\n",
        "\n",
        "unknowns = np.array([[1,3],\n",
        "                     [8,9],\n",
        "                     [0,3],\n",
        "                     [5,4],\n",
        "                     [6,4],])\n",
        "\n",
        "for unknown in unknowns:\n",
        "    classification = clf.predict(unknown)\n",
        "    plt.scatter(unknown[0], unknown[1], marker=\"*\", color=colors[classification], s=100, linewidths=5)\n",
        "\n",
        "\n",
        "plt.show()"
      ],
      "execution_count": null,
      "outputs": [
        {
          "output_type": "stream",
          "text": [
            "453.3333333333334\n",
            "102.72108843537411\n"
          ],
          "name": "stdout"
        },
        {
          "output_type": "display_data",
          "data": {
            "image/png": "[encoded data removed]",
            "text/plain": [
              "<Figure size 432x288 with 1 Axes>"
            ]
          },
          "metadata": {
            "tags": []
          }
        }
      ]
    },
    {
      "cell_type": "markdown",
      "metadata": {
        "id": "PvWucJucpCus",
        "colab_type": "text"
      },
      "source": [
        "##39 Mean Shift Intro"
      ]
    },
    {
      "cell_type": "markdown",
      "metadata": {
        "id": "P5-SHFCtqoEY",
        "colab_type": "text"
      },
      "source": [
        "\n",
        "\n",
        "*   Radius Bandwith = circle around each point\n",
        "*   Convergence= a state when you get the mean point and its isnt moving anymore\n",
        "\n"
      ]
    },
    {
      "cell_type": "code",
      "metadata": {
        "id": "8HUaXq1LpRtA",
        "colab_type": "code",
        "colab": {
          "base_uri": "https://localhost:8080/",
          "height": 353
        },
        "outputId": "4614c23f-4562-46d9-9c89-cefc7e177d97"
      },
      "source": [
        "import numpy as np\n",
        "from sklearn.cluster import MeanShift\n",
        "from sklearn.datasets.samples_generator import make_blobs\n",
        "import matplotlib.pyplot as plt\n",
        "from mpl_toolkits.mplot3d import Axes3D\n",
        "from matplotlib import style\n",
        "style.use(\"ggplot\")\n",
        "\n",
        "centers = [[1,1,1],[5,5,5],[3,10,10]]\n",
        "\n",
        "X, _ = make_blobs(n_samples = 100, centers = centers, cluster_std = 1.5)\n",
        "\n",
        "ms = MeanShift()\n",
        "ms.fit(X)\n",
        "labels = ms.labels_\n",
        "cluster_centers = ms.cluster_centers_\n",
        "\n",
        "print(cluster_centers)\n",
        "n_clusters_ = len(np.unique(labels))\n",
        "print(\"Number of estimated clusters:\", n_clusters_)\n",
        "\n",
        "colors = 10*['r','g','b','c','k','y','m']\n",
        "fig = plt.figure()\n",
        "ax = fig.add_subplot(111, projection='3d')\n",
        "\n",
        "for i in range(len(X)):\n",
        "    ax.scatter(X[i][0], X[i][1], X[i][2], c=colors[labels[i]], marker='o')\n",
        "\n",
        "ax.scatter(cluster_centers[:,0],cluster_centers[:,1],cluster_centers[:,2],\n",
        "            marker=\"x\",color='k', s=150, linewidths = 5, zorder=10)\n",
        "\n",
        "plt.show()"
      ],
      "execution_count": null,
      "outputs": [
        {
          "output_type": "stream",
          "text": [
            "/usr/local/lib/python3.6/dist-packages/sklearn/utils/deprecation.py:144: FutureWarning: The sklearn.datasets.samples_generator module is  deprecated in version 0.22 and will be removed in version 0.24. The corresponding classes / functions should instead be imported from sklearn.datasets. Anything that cannot be imported from sklearn.datasets is now part of the private API.\n",
            "  warnings.warn(message, FutureWarning)\n"
          ],
          "name": "stderr"
        },
        {
          "output_type": "stream",
          "text": [
            "[[ 2.8692267   2.63388271  2.98544677]\n",
            " [ 3.4920253  10.2009895  10.08267419]]\n",
            "Number of estimated clusters: 2\n"
          ],
          "name": "stdout"
        },
        {
          "output_type": "display_data",
          "data": {
            "image/png": "[encoded data removed]",
            "text/plain": [
              "<Figure size 432x288 with 1 Axes>"
            ]
          },
          "metadata": {
            "tags": []
          }
        }
      ]
    },
    {
      "cell_type": "markdown",
      "metadata": {
        "id": "YFEIYctxxtxq",
        "colab_type": "text"
      },
      "source": [
        "##40 Mean Shift with Titanic Dataset "
      ]
    },
    {
      "cell_type": "code",
      "metadata": {
        "id": "NqJOrUzZx9kR",
        "colab_type": "code",
        "colab": {
          "base_uri": "https://localhost:8080/",
          "height": 292
        },
        "outputId": "32eaba63-9d27-4924-edf8-d50bfc263ccf"
      },
      "source": [
        "import numpy as np\n",
        "from sklearn.cluster import MeanShift, KMeans\n",
        "from sklearn import preprocessing, model_selection\n",
        "import pandas as pd\n",
        "import matplotlib.pyplot as plt\n",
        "\n",
        "df = pd.read_excel('titanic.xls')\n",
        "\n",
        "original_df = pd.DataFrame.copy(df)\n",
        "df.drop(['body','name'], 1, inplace=True)\n",
        "df.fillna(0,inplace=True)\n",
        "\n",
        "def handle_non_numerical_data(df):\n",
        "    \n",
        "    # handling non-numerical data: must convert.\n",
        "    columns = df.columns.values\n",
        "\n",
        "    for column in columns:\n",
        "        text_digit_vals = {}\n",
        "        def convert_to_int(val):\n",
        "            return text_digit_vals[val]\n",
        "\n",
        "        #print(column,df[column].dtype)\n",
        "        if df[column].dtype != np.int64 and df[column].dtype != np.float64:\n",
        "            \n",
        "            column_contents = df[column].values.tolist()\n",
        "            unique_elements = set(column_contents)\n",
        "            x = 0\n",
        "            for unique in unique_elements:\n",
        "                if unique not in text_digit_vals:\n",
        "                    # creating dict that contains new\n",
        "                    # id per unique string\n",
        "                    text_digit_vals[unique] = x\n",
        "                    x+=1\n",
        "            # now we map the new \"id\" vlaue\n",
        "            # to replace the string. \n",
        "            df[column] = list(map(convert_to_int,df[column]))\n",
        "\n",
        "    return df\n",
        "\n",
        "df = handle_non_numerical_data(df)\n",
        "df.drop(['ticket','home.dest'], 1, inplace=True)\n",
        "\n",
        "X = np.array(df.drop(['survived'], 1).astype(float))\n",
        "X = preprocessing.scale(X)\n",
        "y = np.array(df['survived'])\n",
        "\n",
        "clf = MeanShift()\n",
        "clf.fit(X)\n",
        "\n",
        "labels = clf.labels_\n",
        "cluster_centers = clf.cluster_centers_\n",
        "\n",
        "original_df['cluster_group']=np.nan\n",
        "\n",
        "for i in range(len(X)):\n",
        "    original_df['cluster_group'].iloc[i] = labels[i]\n",
        "\n",
        "#to check survival rates of each group:\n",
        "\n",
        "n_clusters_ = len(np.unique(labels))\n",
        "\n",
        "survival_rates = {}\n",
        "for i in range(n_clusters_):\n",
        "    temp_df = original_df[ (original_df['cluster_group']==float(i)) ]\n",
        "    survival_cluster = temp_df[  (temp_df['survived'] == 1) ]\n",
        "    survival_rate = len(survival_cluster) / len(temp_df)\n",
        "    survival_rates[i] = survival_rate\n",
        "    \n",
        "print(survival_rates)\n",
        "\n",
        "print(original_df[ (original_df['cluster_group']==1) ])\n",
        "#change 1 to 0 or 2 \n",
        "#to get just the rows from the original_df where the cluster_group column is 1"
      ],
      "execution_count": null,
      "outputs": [
        {
          "output_type": "stream",
          "text": [
            "/usr/local/lib/python3.6/dist-packages/pandas/core/indexing.py:671: SettingWithCopyWarning: \n",
            "A value is trying to be set on a copy of a slice from a DataFrame\n",
            "\n",
            "See the caveats in the documentation: https://pandas.pydata.org/pandas-docs/stable/user_guide/indexing.html#returning-a-view-versus-a-copy\n",
            "  self._setitem_with_indexer(indexer, value)\n"
          ],
          "name": "stderr"
        },
        {
          "output_type": "stream",
          "text": [
            "{0: 0.37168141592920356, 1: 1.0, 2: 0.7428571428571429, 3: 0.0, 4: 0.09090909090909091, 5: 1.0}\n",
            "     pclass  ...  cluster_group\n",
            "35        1  ...            1.0\n",
            "49        1  ...            1.0\n",
            "50        1  ...            1.0\n",
            "66        1  ...            1.0\n",
            "183       1  ...            1.0\n",
            "302       1  ...            1.0\n",
            "\n",
            "[6 rows x 15 columns]\n"
          ],
          "name": "stdout"
        }
      ]
    },
    {
      "cell_type": "markdown",
      "metadata": {
        "id": "zcBJ66pSs_tZ",
        "colab_type": "text"
      },
      "source": [
        "## 41 Mean Shift from Scratch"
      ]
    },
    {
      "cell_type": "code",
      "metadata": {
        "id": "8IR_RElZtRS9",
        "colab_type": "code",
        "colab": {
          "base_uri": "https://localhost:8080/",
          "height": 265
        },
        "outputId": "b7337f4a-c563-470f-a2bc-3bae856f840c"
      },
      "source": [
        "import matplotlib.pyplot as plt\n",
        "from matplotlib import style\n",
        "style.use('ggplot')\n",
        "import numpy as np\n",
        "\n",
        "X = np.array([[1, 2],\n",
        "              [1.5, 1.8],\n",
        "              [5, 8 ],\n",
        "              [8, 8],\n",
        "              [1, 0.6],\n",
        "              [9,11],\n",
        "              [8,2],\n",
        "              [10,2],\n",
        "              [9,3],])\n",
        "\n",
        "##plt.scatter(X[:,0], X[:,1], s=150)\n",
        "##plt.show()\n",
        "\n",
        "colors = 10*[\"g\",\"r\",\"c\",\"b\",\"k\"]\n",
        "\n",
        "class Mean_Shift:\n",
        "    def __init__(self, radius=4):\n",
        "        self.radius = radius\n",
        "\n",
        "    def fit(self, data):\n",
        "        centroids = {}\n",
        "\n",
        "        for i in range(len(data)):\n",
        "            centroids[i] = data[i]\n",
        "        \n",
        "        while True:\n",
        "            new_centroids = []\n",
        "            for i in centroids:\n",
        "                in_bandwidth = []\n",
        "                centroid = centroids[i]\n",
        "                for featureset in data:\n",
        "                    if np.linalg.norm(featureset-centroid) < self.radius:\n",
        "                        in_bandwidth.append(featureset)\n",
        "\n",
        "                new_centroid = np.average(in_bandwidth,axis=0)\n",
        "                new_centroids.append(tuple(new_centroid))\n",
        "\n",
        "            uniques = sorted(list(set(new_centroids)))\n",
        "\n",
        "            prev_centroids = dict(centroids)\n",
        "\n",
        "            centroids = {}\n",
        "            for i in range(len(uniques)):\n",
        "                centroids[i] = np.array(uniques[i])\n",
        "\n",
        "            optimized = True\n",
        "\n",
        "            for i in centroids:\n",
        "                if not np.array_equal(centroids[i], prev_centroids[i]):\n",
        "                    optimized = False\n",
        "                if not optimized:\n",
        "                    break\n",
        "                \n",
        "            if optimized:\n",
        "                break\n",
        "\n",
        "        self.centroids = centroids\n",
        "\n",
        "\n",
        "\n",
        "clf = Mean_Shift()\n",
        "clf.fit(X)\n",
        "\n",
        "centroids = clf.centroids\n",
        "\n",
        "plt.scatter(X[:,0], X[:,1], s=50)\n",
        "\n",
        "for c in centroids:\n",
        "    plt.scatter(centroids[c][0], centroids[c][1], color='k', marker='*', s=150)\n",
        "\n",
        "plt.show()"
      ],
      "execution_count": null,
      "outputs": [
        {
          "output_type": "display_data",
          "data": {
            "image/png": "[encoded data removed]",
            "text/plain": [
              "<Figure size 432x288 with 1 Axes>"
            ]
          },
          "metadata": {
            "tags": []
          }
        }
      ]
    },
    {
      "cell_type": "markdown",
      "metadata": {
        "id": "Qbojm6mFuqyz",
        "colab_type": "text"
      },
      "source": [
        "##42 Mean Shift Dynamic Bandwidth"
      ]
    },
    {
      "cell_type": "code",
      "metadata": {
        "id": "vVVtZUgxvey6",
        "colab_type": "code",
        "colab": {
          "base_uri": "https://localhost:8080/",
          "height": 299
        },
        "outputId": "df4d7783-18ef-4766-8870-38a865566f87"
      },
      "source": [
        "import matplotlib.pyplot as plt\n",
        "from matplotlib import style\n",
        "import numpy as np\n",
        "from sklearn.datasets.samples_generator import make_blobs\n",
        "\n",
        "style.use('ggplot')\n",
        "\n",
        "X, y = make_blobs(n_samples=15, centers=3, n_features=2)\n",
        "\n",
        "'''\n",
        "1. Start at every datapoint as a cluster center\n",
        "2. take mean of radius around cluster, setting that as new cluster center\n",
        "3. Repeat #2 until convergence.\n",
        "'''\n",
        "\n",
        "class Mean_Shift:\n",
        "    def __init__(self, radius = None, radius_norm_step = 50):\n",
        "        self.radius = radius\n",
        "        self.radius_norm_step = radius_norm_step\n",
        "    \n",
        "    def fit(self,data):\n",
        "\n",
        "        if self.radius == None:\n",
        "            all_data_centroid = np.average(data,axis=0)\n",
        "            all_data_norm = np.linalg.norm(all_data_centroid)\n",
        "            self.radius = all_data_norm/self.radius_norm_step\n",
        "            print(self.radius)\n",
        "\n",
        "        centroids = {}\n",
        "\n",
        "        for i in range(len(data)):\n",
        "            centroids[i] = data[i]\n",
        "\n",
        "        weights = [i for i in range(self.radius_norm_step)][::-1]    \n",
        "        while True:\n",
        "            new_centroids = []\n",
        "            for i in centroids:\n",
        "                in_bandwidth = []\n",
        "                centroid = centroids[i]\n",
        "                \n",
        "                for featureset in data:\n",
        "\n",
        "                    distance = np.linalg.norm(featureset-centroid)\n",
        "                    if distance == 0:\n",
        "                        distance = 0.00000000001\n",
        "                    weight_index = int(distance/self.radius)\n",
        "                    if weight_index > self.radius_norm_step-1:\n",
        "                        weight_index = self.radius_norm_step-1\n",
        "\n",
        "                    to_add = (weights[weight_index]**2)*[featureset]\n",
        "                    in_bandwidth +=to_add\n",
        "\n",
        "                new_centroid = np.average(in_bandwidth,axis=0)\n",
        "                new_centroids.append(tuple(new_centroid))\n",
        "\n",
        "            uniques = sorted(list(set(new_centroids)))\n",
        "\n",
        "            to_pop = []\n",
        "\n",
        "            for i in uniques:\n",
        "                for ii in [i for i in uniques]:\n",
        "                    if i == ii:\n",
        "                        pass\n",
        "                    elif np.linalg.norm(np.array(i)-np.array(ii)) <= self.radius:\n",
        "                        #print(np.array(i), np.array(ii))\n",
        "                        to_pop.append(ii)\n",
        "                        break\n",
        "\n",
        "            for i in to_pop:\n",
        "                try:\n",
        "                    uniques.remove(i)\n",
        "                except:\n",
        "                    pass\n",
        "\n",
        "            prev_centroids = dict(centroids)\n",
        "            centroids = {}\n",
        "            for i in range(len(uniques)):\n",
        "                centroids[i] = np.array(uniques[i])\n",
        "\n",
        "            optimized = True\n",
        "\n",
        "            for i in centroids:\n",
        "                if not np.array_equal(centroids[i], prev_centroids[i]):\n",
        "                    optimized = False\n",
        "\n",
        "            if optimized:\n",
        "                break\n",
        "            \n",
        "        self.centroids = centroids\n",
        "        self.classifications = {}\n",
        "\n",
        "        for i in range(len(self.centroids)):\n",
        "            self.classifications[i] = []\n",
        "            \n",
        "        for featureset in data:\n",
        "            #compare distance to either centroid\n",
        "            distances = [np.linalg.norm(featureset-self.centroids[centroid]) for centroid in self.centroids]\n",
        "            #print(distances)\n",
        "            classification = (distances.index(min(distances)))\n",
        "\n",
        "            # featureset that belongs to that cluster\n",
        "            self.classifications[classification].append(featureset)\n",
        "\n",
        "\n",
        "    def predict(self,data):\n",
        "        #compare distance to either centroid\n",
        "        distances = [np.linalg.norm(data-self.centroids[centroid]) for centroid in self.centroids]\n",
        "        classification = (distances.index(min(distances)))\n",
        "        return classification\n",
        "\n",
        "\n",
        "\n",
        "clf = Mean_Shift()\n",
        "clf.fit(X)\n",
        "\n",
        "centroids = clf.centroids\n",
        "print(centroids)\n",
        "\n",
        "colors = 10*['r','m','c','b','k','y']\n",
        "\n",
        "for classification in clf.classifications:\n",
        "    color = colors[classification]\n",
        "    for featureset in clf.classifications[classification]:\n",
        "        plt.scatter(featureset[0],featureset[1], marker = \"x\", color=color, s=150, linewidths = 5, zorder = 10)\n",
        "\n",
        "for c in centroids:\n",
        "    plt.scatter(centroids[c][0],centroids[c][1], color='k', marker = \"*\", s=100, linewidths = 5)\n",
        "\n",
        "plt.show()"
      ],
      "execution_count": null,
      "outputs": [
        {
          "output_type": "stream",
          "text": [
            "0.11926036712011522\n",
            "{0: array([-7.03777328, -1.84258311]), 1: array([-6.05558563,  9.02028402]), 2: array([-2.11106264,  2.71454703])}\n"
          ],
          "name": "stdout"
        },
        {
          "output_type": "display_data",
          "data": {
            "image/png": "[encoded data removed]",
            "text/plain": [
              "<Figure size 432x288 with 1 Axes>"
            ]
          },
          "metadata": {
            "tags": []
          }
        }
      ]
    },
    {
      "cell_type": "markdown",
      "metadata": {
        "id": "gJQQVJRlywTP",
        "colab_type": "text"
      },
      "source": [
        "# Deep Learning"
      ]
    },
    {
      "cell_type": "markdown",
      "metadata": {
        "id": "y8IIU2Y-yi6c",
        "colab_type": "text"
      },
      "source": [
        "##43 Deep Learning with Neural Networks and TensorFlow Introduction"
      ]
    },
    {
      "cell_type": "markdown",
      "metadata": {
        "id": "lgoVE14tzI_C",
        "colab_type": "text"
      },
      "source": [
        "How it works\n",
        "*   input value is x by weight then added to sum\n",
        "*   sum passes though the threshold function, step function\n",
        "*   if you pass this, then you fire (need ti be a 1,not 0)\n",
        "*   if u do fire then u become a new input value & cycle contines \n",
        "\n",
        "\n",
        "*   instead of step function, sigmoid is usually used - that's a type of activation function\n",
        "*   y = function of vectors (x*w)\n",
        "*   input-> hidden layer 1 then 2 -> output\n",
        "\n",
        "why use it \n",
        "\n",
        "*   optimization graph is more like cosine graph, not just one parabola\n",
        "*   can do it to huge data sets\n",
        "*   models logic \n",
        "\n"
      ]
    }
  ]
}